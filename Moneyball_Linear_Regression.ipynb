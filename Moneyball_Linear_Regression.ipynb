{
 "cells": [
  {
   "cell_type": "markdown",
   "metadata": {
    "id": "LLrxDkXTAJLC"
   },
   "source": [
    "# Importing libraries"
   ]
  },
  {
   "cell_type": "code",
   "execution_count": 1,
   "metadata": {
    "id": "C67h6-owDaJ8"
   },
   "outputs": [],
   "source": [
    "import pandas as pd\n",
    "import numpy as np\n",
    "import matplotlib.pyplot as plt\n",
    "import seaborn as sns\n",
    "from sklearn.ensemble import GradientBoostingClassifier\n",
    "from sklearn.model_selection import train_test_split\n",
    "from sklearn.model_selection import GridSearchCV\n",
    "from sklearn.linear_model import LinearRegression\n",
    "import statsmodels.api as sm\n",
    "from statsmodels.formula.api import ols\n",
    "from statsmodels.graphics.regressionplots import *\n",
    "from plot import plot_hist, plot_scatter\n",
    "from wrangling import df_transform\n",
    "from regression import simple_linear_regression, multiple_linear_regression, model_diagnostics"
   ]
  },
  {
   "cell_type": "markdown",
   "metadata": {
    "id": "bemOO8zVANLn"
   },
   "source": [
    "# Loading dataset"
   ]
  },
  {
   "cell_type": "code",
   "execution_count": 2,
   "metadata": {
    "colab": {
     "base_uri": "https://localhost:8080/",
     "height": 206
    },
    "id": "8PyddiU2DxHG",
    "outputId": "37cc50ca-4646-43b6-a98d-543f44b8a2e6"
   },
   "outputs": [
    {
     "data": {
      "text/html": [
       "<div>\n",
       "<style scoped>\n",
       "    .dataframe tbody tr th:only-of-type {\n",
       "        vertical-align: middle;\n",
       "    }\n",
       "\n",
       "    .dataframe tbody tr th {\n",
       "        vertical-align: top;\n",
       "    }\n",
       "\n",
       "    .dataframe thead th {\n",
       "        text-align: right;\n",
       "    }\n",
       "</style>\n",
       "<table border=\"1\" class=\"dataframe\">\n",
       "  <thead>\n",
       "    <tr style=\"text-align: right;\">\n",
       "      <th></th>\n",
       "      <th>team</th>\n",
       "      <th>runs</th>\n",
       "      <th>at_bats</th>\n",
       "      <th>hits</th>\n",
       "      <th>homeruns</th>\n",
       "      <th>bat_avg</th>\n",
       "      <th>strikeouts</th>\n",
       "      <th>stolen_bases</th>\n",
       "      <th>wins</th>\n",
       "      <th>new_onbase</th>\n",
       "      <th>new_slug</th>\n",
       "      <th>new_obs</th>\n",
       "    </tr>\n",
       "  </thead>\n",
       "  <tbody>\n",
       "    <tr>\n",
       "      <th>1</th>\n",
       "      <td>Texas Rangers</td>\n",
       "      <td>855</td>\n",
       "      <td>5659</td>\n",
       "      <td>1599</td>\n",
       "      <td>210</td>\n",
       "      <td>0.283</td>\n",
       "      <td>930</td>\n",
       "      <td>143</td>\n",
       "      <td>96</td>\n",
       "      <td>0.340</td>\n",
       "      <td>0.460</td>\n",
       "      <td>0.800</td>\n",
       "    </tr>\n",
       "    <tr>\n",
       "      <th>2</th>\n",
       "      <td>Boston Red Sox</td>\n",
       "      <td>875</td>\n",
       "      <td>5710</td>\n",
       "      <td>1600</td>\n",
       "      <td>203</td>\n",
       "      <td>0.280</td>\n",
       "      <td>1108</td>\n",
       "      <td>102</td>\n",
       "      <td>90</td>\n",
       "      <td>0.349</td>\n",
       "      <td>0.461</td>\n",
       "      <td>0.810</td>\n",
       "    </tr>\n",
       "    <tr>\n",
       "      <th>3</th>\n",
       "      <td>Detroit Tigers</td>\n",
       "      <td>787</td>\n",
       "      <td>5563</td>\n",
       "      <td>1540</td>\n",
       "      <td>169</td>\n",
       "      <td>0.277</td>\n",
       "      <td>1143</td>\n",
       "      <td>49</td>\n",
       "      <td>95</td>\n",
       "      <td>0.340</td>\n",
       "      <td>0.434</td>\n",
       "      <td>0.773</td>\n",
       "    </tr>\n",
       "    <tr>\n",
       "      <th>4</th>\n",
       "      <td>Kansas City Royals</td>\n",
       "      <td>730</td>\n",
       "      <td>5672</td>\n",
       "      <td>1560</td>\n",
       "      <td>129</td>\n",
       "      <td>0.275</td>\n",
       "      <td>1006</td>\n",
       "      <td>153</td>\n",
       "      <td>71</td>\n",
       "      <td>0.329</td>\n",
       "      <td>0.415</td>\n",
       "      <td>0.744</td>\n",
       "    </tr>\n",
       "    <tr>\n",
       "      <th>5</th>\n",
       "      <td>St. Louis Cardinals</td>\n",
       "      <td>762</td>\n",
       "      <td>5532</td>\n",
       "      <td>1513</td>\n",
       "      <td>162</td>\n",
       "      <td>0.273</td>\n",
       "      <td>978</td>\n",
       "      <td>57</td>\n",
       "      <td>90</td>\n",
       "      <td>0.341</td>\n",
       "      <td>0.425</td>\n",
       "      <td>0.766</td>\n",
       "    </tr>\n",
       "  </tbody>\n",
       "</table>\n",
       "</div>"
      ],
      "text/plain": [
       "                  team  runs  at_bats  hits  homeruns  bat_avg  strikeouts  \\\n",
       "1        Texas Rangers   855     5659  1599       210    0.283         930   \n",
       "2       Boston Red Sox   875     5710  1600       203    0.280        1108   \n",
       "3       Detroit Tigers   787     5563  1540       169    0.277        1143   \n",
       "4   Kansas City Royals   730     5672  1560       129    0.275        1006   \n",
       "5  St. Louis Cardinals   762     5532  1513       162    0.273         978   \n",
       "\n",
       "   stolen_bases  wins  new_onbase  new_slug  new_obs  \n",
       "1           143    96       0.340     0.460    0.800  \n",
       "2           102    90       0.349     0.461    0.810  \n",
       "3            49    95       0.340     0.434    0.773  \n",
       "4           153    71       0.329     0.415    0.744  \n",
       "5            57    90       0.341     0.425    0.766  "
      ]
     },
     "execution_count": 2,
     "metadata": {},
     "output_type": "execute_result"
    }
   ],
   "source": [
    "#df = pd.read_csv('/content/drive/MyDrive/mlb11.csv',index_col=0)\n",
    "df = pd.read_csv(r'C:\\Users\\sdas\\Github_DS\\Moneyball_Linear_Regression\\mlb11.csv',index_col=0)\n",
    "df.head()"
   ]
  },
  {
   "cell_type": "code",
   "execution_count": 3,
   "metadata": {
    "colab": {
     "base_uri": "https://localhost:8080/",
     "height": 300
    },
    "id": "0jeW7hpHLPqa",
    "outputId": "58010350-a9b9-45d3-8c90-e77fa337d362"
   },
   "outputs": [
    {
     "data": {
      "text/html": [
       "<div>\n",
       "<style scoped>\n",
       "    .dataframe tbody tr th:only-of-type {\n",
       "        vertical-align: middle;\n",
       "    }\n",
       "\n",
       "    .dataframe tbody tr th {\n",
       "        vertical-align: top;\n",
       "    }\n",
       "\n",
       "    .dataframe thead th {\n",
       "        text-align: right;\n",
       "    }\n",
       "</style>\n",
       "<table border=\"1\" class=\"dataframe\">\n",
       "  <thead>\n",
       "    <tr style=\"text-align: right;\">\n",
       "      <th></th>\n",
       "      <th>runs</th>\n",
       "      <th>at_bats</th>\n",
       "      <th>hits</th>\n",
       "      <th>homeruns</th>\n",
       "      <th>bat_avg</th>\n",
       "      <th>strikeouts</th>\n",
       "      <th>stolen_bases</th>\n",
       "      <th>wins</th>\n",
       "      <th>new_onbase</th>\n",
       "      <th>new_slug</th>\n",
       "      <th>new_obs</th>\n",
       "    </tr>\n",
       "  </thead>\n",
       "  <tbody>\n",
       "    <tr>\n",
       "      <th>count</th>\n",
       "      <td>30.000000</td>\n",
       "      <td>30.000000</td>\n",
       "      <td>30.000000</td>\n",
       "      <td>30.000000</td>\n",
       "      <td>30.000000</td>\n",
       "      <td>30.000000</td>\n",
       "      <td>30.000000</td>\n",
       "      <td>30.000000</td>\n",
       "      <td>30.000000</td>\n",
       "      <td>30.000000</td>\n",
       "      <td>30.00000</td>\n",
       "    </tr>\n",
       "    <tr>\n",
       "      <th>mean</th>\n",
       "      <td>693.600000</td>\n",
       "      <td>5523.500000</td>\n",
       "      <td>1408.900000</td>\n",
       "      <td>151.733333</td>\n",
       "      <td>0.254933</td>\n",
       "      <td>1149.600000</td>\n",
       "      <td>109.300000</td>\n",
       "      <td>80.966667</td>\n",
       "      <td>0.320467</td>\n",
       "      <td>0.398833</td>\n",
       "      <td>0.71910</td>\n",
       "    </tr>\n",
       "    <tr>\n",
       "      <th>std</th>\n",
       "      <td>82.479088</td>\n",
       "      <td>79.873067</td>\n",
       "      <td>87.081947</td>\n",
       "      <td>35.587612</td>\n",
       "      <td>0.012744</td>\n",
       "      <td>108.049988</td>\n",
       "      <td>29.868851</td>\n",
       "      <td>11.415305</td>\n",
       "      <td>0.013441</td>\n",
       "      <td>0.029131</td>\n",
       "      <td>0.04155</td>\n",
       "    </tr>\n",
       "    <tr>\n",
       "      <th>min</th>\n",
       "      <td>556.000000</td>\n",
       "      <td>5417.000000</td>\n",
       "      <td>1263.000000</td>\n",
       "      <td>91.000000</td>\n",
       "      <td>0.233000</td>\n",
       "      <td>930.000000</td>\n",
       "      <td>49.000000</td>\n",
       "      <td>56.000000</td>\n",
       "      <td>0.292000</td>\n",
       "      <td>0.348000</td>\n",
       "      <td>0.64000</td>\n",
       "    </tr>\n",
       "    <tr>\n",
       "      <th>25%</th>\n",
       "      <td>629.000000</td>\n",
       "      <td>5448.250000</td>\n",
       "      <td>1348.000000</td>\n",
       "      <td>118.000000</td>\n",
       "      <td>0.244750</td>\n",
       "      <td>1085.250000</td>\n",
       "      <td>89.750000</td>\n",
       "      <td>72.000000</td>\n",
       "      <td>0.311000</td>\n",
       "      <td>0.377000</td>\n",
       "      <td>0.69200</td>\n",
       "    </tr>\n",
       "    <tr>\n",
       "      <th>50%</th>\n",
       "      <td>705.500000</td>\n",
       "      <td>5515.500000</td>\n",
       "      <td>1394.500000</td>\n",
       "      <td>154.000000</td>\n",
       "      <td>0.253000</td>\n",
       "      <td>1140.500000</td>\n",
       "      <td>107.000000</td>\n",
       "      <td>80.000000</td>\n",
       "      <td>0.318500</td>\n",
       "      <td>0.398500</td>\n",
       "      <td>0.71600</td>\n",
       "    </tr>\n",
       "    <tr>\n",
       "      <th>75%</th>\n",
       "      <td>734.000000</td>\n",
       "      <td>5575.000000</td>\n",
       "      <td>1441.000000</td>\n",
       "      <td>172.750000</td>\n",
       "      <td>0.260250</td>\n",
       "      <td>1247.750000</td>\n",
       "      <td>130.750000</td>\n",
       "      <td>90.000000</td>\n",
       "      <td>0.328250</td>\n",
       "      <td>0.413000</td>\n",
       "      <td>0.73825</td>\n",
       "    </tr>\n",
       "    <tr>\n",
       "      <th>max</th>\n",
       "      <td>875.000000</td>\n",
       "      <td>5710.000000</td>\n",
       "      <td>1600.000000</td>\n",
       "      <td>222.000000</td>\n",
       "      <td>0.283000</td>\n",
       "      <td>1323.000000</td>\n",
       "      <td>170.000000</td>\n",
       "      <td>102.000000</td>\n",
       "      <td>0.349000</td>\n",
       "      <td>0.461000</td>\n",
       "      <td>0.81000</td>\n",
       "    </tr>\n",
       "  </tbody>\n",
       "</table>\n",
       "</div>"
      ],
      "text/plain": [
       "             runs      at_bats         hits    homeruns    bat_avg  \\\n",
       "count   30.000000    30.000000    30.000000   30.000000  30.000000   \n",
       "mean   693.600000  5523.500000  1408.900000  151.733333   0.254933   \n",
       "std     82.479088    79.873067    87.081947   35.587612   0.012744   \n",
       "min    556.000000  5417.000000  1263.000000   91.000000   0.233000   \n",
       "25%    629.000000  5448.250000  1348.000000  118.000000   0.244750   \n",
       "50%    705.500000  5515.500000  1394.500000  154.000000   0.253000   \n",
       "75%    734.000000  5575.000000  1441.000000  172.750000   0.260250   \n",
       "max    875.000000  5710.000000  1600.000000  222.000000   0.283000   \n",
       "\n",
       "        strikeouts  stolen_bases        wins  new_onbase   new_slug   new_obs  \n",
       "count    30.000000     30.000000   30.000000   30.000000  30.000000  30.00000  \n",
       "mean   1149.600000    109.300000   80.966667    0.320467   0.398833   0.71910  \n",
       "std     108.049988     29.868851   11.415305    0.013441   0.029131   0.04155  \n",
       "min     930.000000     49.000000   56.000000    0.292000   0.348000   0.64000  \n",
       "25%    1085.250000     89.750000   72.000000    0.311000   0.377000   0.69200  \n",
       "50%    1140.500000    107.000000   80.000000    0.318500   0.398500   0.71600  \n",
       "75%    1247.750000    130.750000   90.000000    0.328250   0.413000   0.73825  \n",
       "max    1323.000000    170.000000  102.000000    0.349000   0.461000   0.81000  "
      ]
     },
     "execution_count": 3,
     "metadata": {},
     "output_type": "execute_result"
    }
   ],
   "source": [
    "df.describe()"
   ]
  },
  {
   "cell_type": "markdown",
   "metadata": {},
   "source": [
    "# Defining the metrics"
   ]
  },
  {
   "cell_type": "markdown",
   "metadata": {},
   "source": [
    "- https://www.mlb.com/glossary/standard-stats/hit\n",
    "- https://www.mlb.com/glossary/standard-stats/at-bat\n",
    "- https://www.mlb.com/glossary/standard-stats/batting-average\n",
    "- https://www.mlb.com/glossary/standard-stats/home-run\n",
    "- https://www.mlb.com/glossary/standard-stats/strikeout\n",
    "- https://www.mlb.com/glossary/standard-stats/stolen-base\n",
    "- https://www.mlb.com/glossary/standard-stats/win\n",
    "- https://www.mlb.com/glossary/standard-stats/on-base-percentage\n",
    "- https://www.mlb.com/glossary/standard-stats/slugging-percentage\n",
    "- https://www.mlb.com/glossary/standard-stats/on-base-plus-slugging"
   ]
  },
  {
   "cell_type": "markdown",
   "metadata": {},
   "source": [
    "- *hits*: Occurs when a batter makes contact with a pitch and the batter reaches base while the hit stays in fair territory. The different types of hits are singles, doubles, triples and home runs. This does not take into account fielder's choice or errors. \n",
    "- *at_bats*: Recorded when a batter reaches base via fielder's choice, hit or an error, or when a batter is put out on a non-sacrifice. \n",
    "- *bat_avg*: Calculated by dividing a player's **hits** by total **at_bats**. The bat_avg is typically between 0 and 1 with the historical average value being around 0.25. \n",
    "- *homeruns*: When a batte hits the ball over the fence and is able to run to all four bases at their leisure as there is no threat of being thrown out. All batters on the field also receive the runs. \n",
    "- *strikouts*: The batter being called out as a result of the batter missing three consecutive pitches as long as the catcher cleanly catches all three pitches. \n",
    "- *stolen_bases*: When a runner advances to a base they are not entitled to. This can happen while a pitcher is throwing a pitch, picking up the ball or has the ball. It can also happen when the catcher is throwing the ball back to the pitcher. \n",
    "- *wins*: Awarded to the pitcher of record when their team takes the lead for good. They must have pitched at least five innings to qualify for a win. \n",
    "- *new_onbase*: Refers to how frequently a batter reaches base per plate appearance. Times on base include hits, walks and hit-by-pitches, but do not include errors, times reached on a fielder's choice or a dropped third strike.\n",
    "- *new_slug*: Total number of bases a player records per at bat. Unlike on-base percentage, slugging percentage deals only with hits and does not include walks and hit-by-pitches in its equation.\n",
    "- *new_obs*: OPS adds on-base percentage and slugging percentage to get one number that unites the two. It's meant to combine how well a hitter can reach base, with how well he can hit for average and for power."
   ]
  },
  {
   "cell_type": "markdown",
   "metadata": {
    "id": "aEcTODGFKT_i"
   },
   "source": [
    "# Correlation"
   ]
  },
  {
   "cell_type": "markdown",
   "metadata": {
    "id": "P03mjEaCOt7K"
   },
   "source": [
    "### Plot correlation matrix"
   ]
  },
  {
   "cell_type": "code",
   "execution_count": 4,
   "metadata": {
    "colab": {
     "base_uri": "https://localhost:8080/",
     "height": 394
    },
    "id": "PRco5t4LEWIF",
    "outputId": "c280f96f-69f9-4226-c071-df8edb400979"
   },
   "outputs": [
    {
     "data": {
      "text/html": [
       "<style type=\"text/css\">\n",
       "#T_cf8cf_row0_col0, #T_cf8cf_row1_col1, #T_cf8cf_row2_col2, #T_cf8cf_row3_col3, #T_cf8cf_row4_col4, #T_cf8cf_row5_col5, #T_cf8cf_row6_col6, #T_cf8cf_row7_col7, #T_cf8cf_row8_col8, #T_cf8cf_row9_col9, #T_cf8cf_row10_col10 {\n",
       "  background-color: #023858;\n",
       "  color: #f1f1f1;\n",
       "}\n",
       "#T_cf8cf_row0_col1, #T_cf8cf_row1_col9, #T_cf8cf_row7_col10 {\n",
       "  background-color: #0c74b2;\n",
       "  color: #f1f1f1;\n",
       "}\n",
       "#T_cf8cf_row0_col2, #T_cf8cf_row4_col9 {\n",
       "  background-color: #04598c;\n",
       "  color: #f1f1f1;\n",
       "}\n",
       "#T_cf8cf_row0_col3 {\n",
       "  background-color: #04639b;\n",
       "  color: #f1f1f1;\n",
       "}\n",
       "#T_cf8cf_row0_col4, #T_cf8cf_row9_col3 {\n",
       "  background-color: #045788;\n",
       "  color: #f1f1f1;\n",
       "}\n",
       "#T_cf8cf_row0_col5 {\n",
       "  background-color: #eae6f1;\n",
       "  color: #000000;\n",
       "}\n",
       "#T_cf8cf_row0_col6 {\n",
       "  background-color: #e5e1ef;\n",
       "  color: #000000;\n",
       "}\n",
       "#T_cf8cf_row0_col7 {\n",
       "  background-color: #1c7fb8;\n",
       "  color: #f1f1f1;\n",
       "}\n",
       "#T_cf8cf_row0_col8 {\n",
       "  background-color: #03466e;\n",
       "  color: #f1f1f1;\n",
       "}\n",
       "#T_cf8cf_row0_col9, #T_cf8cf_row9_col0 {\n",
       "  background-color: #034267;\n",
       "  color: #f1f1f1;\n",
       "}\n",
       "#T_cf8cf_row0_col10 {\n",
       "  background-color: #023d60;\n",
       "  color: #f1f1f1;\n",
       "}\n",
       "#T_cf8cf_row1_col0, #T_cf8cf_row7_col9, #T_cf8cf_row8_col1 {\n",
       "  background-color: #0f76b3;\n",
       "  color: #f1f1f1;\n",
       "}\n",
       "#T_cf8cf_row1_col2, #T_cf8cf_row2_col8, #T_cf8cf_row3_col9 {\n",
       "  background-color: #045280;\n",
       "  color: #f1f1f1;\n",
       "}\n",
       "#T_cf8cf_row1_col3 {\n",
       "  background-color: #81aed2;\n",
       "  color: #f1f1f1;\n",
       "}\n",
       "#T_cf8cf_row1_col4 {\n",
       "  background-color: #045e94;\n",
       "  color: #f1f1f1;\n",
       "}\n",
       "#T_cf8cf_row1_col5 {\n",
       "  background-color: #f0eaf4;\n",
       "  color: #000000;\n",
       "}\n",
       "#T_cf8cf_row1_col6 {\n",
       "  background-color: #fdf5fa;\n",
       "  color: #000000;\n",
       "}\n",
       "#T_cf8cf_row1_col7 {\n",
       "  background-color: #cacee5;\n",
       "  color: #000000;\n",
       "}\n",
       "#T_cf8cf_row1_col8 {\n",
       "  background-color: #0d75b3;\n",
       "  color: #f1f1f1;\n",
       "}\n",
       "#T_cf8cf_row1_col10, #T_cf8cf_row10_col1 {\n",
       "  background-color: #0771b1;\n",
       "  color: #f1f1f1;\n",
       "}\n",
       "#T_cf8cf_row2_col0 {\n",
       "  background-color: #045d92;\n",
       "  color: #f1f1f1;\n",
       "}\n",
       "#T_cf8cf_row2_col1, #T_cf8cf_row2_col10, #T_cf8cf_row9_col4 {\n",
       "  background-color: #045483;\n",
       "  color: #f1f1f1;\n",
       "}\n",
       "#T_cf8cf_row2_col3, #T_cf8cf_row4_col3 {\n",
       "  background-color: #5c9fc9;\n",
       "  color: #f1f1f1;\n",
       "}\n",
       "#T_cf8cf_row2_col4, #T_cf8cf_row4_col2 {\n",
       "  background-color: #02395a;\n",
       "  color: #f1f1f1;\n",
       "}\n",
       "#T_cf8cf_row2_col5, #T_cf8cf_row3_col6 {\n",
       "  background-color: #fef6fa;\n",
       "  color: #000000;\n",
       "}\n",
       "#T_cf8cf_row2_col6, #T_cf8cf_row4_col5, #T_cf8cf_row4_col6, #T_cf8cf_row5_col0, #T_cf8cf_row5_col1, #T_cf8cf_row5_col2, #T_cf8cf_row5_col3, #T_cf8cf_row5_col4, #T_cf8cf_row5_col7, #T_cf8cf_row5_col8, #T_cf8cf_row5_col9, #T_cf8cf_row5_col10 {\n",
       "  background-color: #fff7fb;\n",
       "  color: #000000;\n",
       "}\n",
       "#T_cf8cf_row2_col7 {\n",
       "  background-color: #88b1d4;\n",
       "  color: #000000;\n",
       "}\n",
       "#T_cf8cf_row2_col9, #T_cf8cf_row3_col10 {\n",
       "  background-color: #045b8e;\n",
       "  color: #f1f1f1;\n",
       "}\n",
       "#T_cf8cf_row3_col0 {\n",
       "  background-color: #045e93;\n",
       "  color: #f1f1f1;\n",
       "}\n",
       "#T_cf8cf_row3_col1 {\n",
       "  background-color: #509ac6;\n",
       "  color: #f1f1f1;\n",
       "}\n",
       "#T_cf8cf_row3_col2, #T_cf8cf_row8_col3 {\n",
       "  background-color: #2383ba;\n",
       "  color: #f1f1f1;\n",
       "}\n",
       "#T_cf8cf_row3_col4 {\n",
       "  background-color: #2182b9;\n",
       "  color: #f1f1f1;\n",
       "}\n",
       "#T_cf8cf_row3_col5 {\n",
       "  background-color: #c5cce3;\n",
       "  color: #000000;\n",
       "}\n",
       "#T_cf8cf_row3_col7 {\n",
       "  background-color: #0a73b2;\n",
       "  color: #f1f1f1;\n",
       "}\n",
       "#T_cf8cf_row3_col8, #T_cf8cf_row9_col1 {\n",
       "  background-color: #0872b1;\n",
       "  color: #f1f1f1;\n",
       "}\n",
       "#T_cf8cf_row4_col0 {\n",
       "  background-color: #045b8f;\n",
       "  color: #f1f1f1;\n",
       "}\n",
       "#T_cf8cf_row4_col1 {\n",
       "  background-color: #046198;\n",
       "  color: #f1f1f1;\n",
       "}\n",
       "#T_cf8cf_row4_col7 {\n",
       "  background-color: #76aad0;\n",
       "  color: #f1f1f1;\n",
       "}\n",
       "#T_cf8cf_row4_col8, #T_cf8cf_row10_col4 {\n",
       "  background-color: #034d79;\n",
       "  color: #f1f1f1;\n",
       "}\n",
       "#T_cf8cf_row4_col10, #T_cf8cf_row8_col9, #T_cf8cf_row10_col2 {\n",
       "  background-color: #03517e;\n",
       "  color: #f1f1f1;\n",
       "}\n",
       "#T_cf8cf_row5_col6 {\n",
       "  background-color: #dedcec;\n",
       "  color: #000000;\n",
       "}\n",
       "#T_cf8cf_row6_col0 {\n",
       "  background-color: #b5c4df;\n",
       "  color: #000000;\n",
       "}\n",
       "#T_cf8cf_row6_col1 {\n",
       "  background-color: #d2d2e7;\n",
       "  color: #000000;\n",
       "}\n",
       "#T_cf8cf_row6_col2 {\n",
       "  background-color: #bfc9e1;\n",
       "  color: #000000;\n",
       "}\n",
       "#T_cf8cf_row6_col3, #T_cf8cf_row9_col6 {\n",
       "  background-color: #f8f1f8;\n",
       "  color: #000000;\n",
       "}\n",
       "#T_cf8cf_row6_col4 {\n",
       "  background-color: #bbc7e0;\n",
       "  color: #000000;\n",
       "}\n",
       "#T_cf8cf_row6_col5 {\n",
       "  background-color: #8bb2d4;\n",
       "  color: #000000;\n",
       "}\n",
       "#T_cf8cf_row6_col7 {\n",
       "  background-color: #e2dfee;\n",
       "  color: #000000;\n",
       "}\n",
       "#T_cf8cf_row6_col8 {\n",
       "  background-color: #bdc8e1;\n",
       "  color: #000000;\n",
       "}\n",
       "#T_cf8cf_row6_col9 {\n",
       "  background-color: #d3d4e7;\n",
       "  color: #000000;\n",
       "}\n",
       "#T_cf8cf_row6_col10 {\n",
       "  background-color: #cccfe5;\n",
       "  color: #000000;\n",
       "}\n",
       "#T_cf8cf_row7_col0 {\n",
       "  background-color: #1278b4;\n",
       "  color: #f1f1f1;\n",
       "}\n",
       "#T_cf8cf_row7_col1 {\n",
       "  background-color: #acc0dd;\n",
       "  color: #000000;\n",
       "}\n",
       "#T_cf8cf_row7_col2 {\n",
       "  background-color: #549cc7;\n",
       "  color: #f1f1f1;\n",
       "}\n",
       "#T_cf8cf_row7_col3 {\n",
       "  background-color: #157ab5;\n",
       "  color: #f1f1f1;\n",
       "}\n",
       "#T_cf8cf_row7_col4 {\n",
       "  background-color: #4094c3;\n",
       "  color: #f1f1f1;\n",
       "}\n",
       "#T_cf8cf_row7_col5 {\n",
       "  background-color: #d8d7e9;\n",
       "  color: #000000;\n",
       "}\n",
       "#T_cf8cf_row7_col6, #T_cf8cf_row10_col6 {\n",
       "  background-color: #f7f0f7;\n",
       "  color: #000000;\n",
       "}\n",
       "#T_cf8cf_row7_col8, #T_cf8cf_row9_col7, #T_cf8cf_row10_col7 {\n",
       "  background-color: #197db7;\n",
       "  color: #f1f1f1;\n",
       "}\n",
       "#T_cf8cf_row8_col0 {\n",
       "  background-color: #03476f;\n",
       "  color: #f1f1f1;\n",
       "}\n",
       "#T_cf8cf_row8_col2, #T_cf8cf_row9_col8 {\n",
       "  background-color: #034f7d;\n",
       "  color: #f1f1f1;\n",
       "}\n",
       "#T_cf8cf_row8_col4 {\n",
       "  background-color: #034b76;\n",
       "  color: #f1f1f1;\n",
       "}\n",
       "#T_cf8cf_row8_col5 {\n",
       "  background-color: #f1ebf5;\n",
       "  color: #000000;\n",
       "}\n",
       "#T_cf8cf_row8_col6 {\n",
       "  background-color: #f2ecf5;\n",
       "  color: #000000;\n",
       "}\n",
       "#T_cf8cf_row8_col7 {\n",
       "  background-color: #2c89bd;\n",
       "  color: #f1f1f1;\n",
       "}\n",
       "#T_cf8cf_row8_col10 {\n",
       "  background-color: #03446a;\n",
       "  color: #f1f1f1;\n",
       "}\n",
       "#T_cf8cf_row9_col2 {\n",
       "  background-color: #045687;\n",
       "  color: #f1f1f1;\n",
       "}\n",
       "#T_cf8cf_row9_col5 {\n",
       "  background-color: #e9e5f1;\n",
       "  color: #000000;\n",
       "}\n",
       "#T_cf8cf_row9_col10, #T_cf8cf_row10_col9 {\n",
       "  background-color: #023a5b;\n",
       "  color: #f1f1f1;\n",
       "}\n",
       "#T_cf8cf_row10_col0 {\n",
       "  background-color: #023e62;\n",
       "  color: #f1f1f1;\n",
       "}\n",
       "#T_cf8cf_row10_col3 {\n",
       "  background-color: #046097;\n",
       "  color: #f1f1f1;\n",
       "}\n",
       "#T_cf8cf_row10_col5 {\n",
       "  background-color: #eee8f3;\n",
       "  color: #000000;\n",
       "}\n",
       "#T_cf8cf_row10_col8 {\n",
       "  background-color: #034369;\n",
       "  color: #f1f1f1;\n",
       "}\n",
       "</style>\n",
       "<table id=\"T_cf8cf_\">\n",
       "  <thead>\n",
       "    <tr>\n",
       "      <th class=\"blank level0\" >&nbsp;</th>\n",
       "      <th class=\"col_heading level0 col0\" >runs</th>\n",
       "      <th class=\"col_heading level0 col1\" >at_bats</th>\n",
       "      <th class=\"col_heading level0 col2\" >hits</th>\n",
       "      <th class=\"col_heading level0 col3\" >homeruns</th>\n",
       "      <th class=\"col_heading level0 col4\" >bat_avg</th>\n",
       "      <th class=\"col_heading level0 col5\" >strikeouts</th>\n",
       "      <th class=\"col_heading level0 col6\" >stolen_bases</th>\n",
       "      <th class=\"col_heading level0 col7\" >wins</th>\n",
       "      <th class=\"col_heading level0 col8\" >new_onbase</th>\n",
       "      <th class=\"col_heading level0 col9\" >new_slug</th>\n",
       "      <th class=\"col_heading level0 col10\" >new_obs</th>\n",
       "    </tr>\n",
       "  </thead>\n",
       "  <tbody>\n",
       "    <tr>\n",
       "      <th id=\"T_cf8cf_level0_row0\" class=\"row_heading level0 row0\" >runs</th>\n",
       "      <td id=\"T_cf8cf_row0_col0\" class=\"data row0 col0\" >1.000000</td>\n",
       "      <td id=\"T_cf8cf_row0_col1\" class=\"data row0 col1\" >0.610627</td>\n",
       "      <td id=\"T_cf8cf_row0_col2\" class=\"data row0 col2\" >0.801211</td>\n",
       "      <td id=\"T_cf8cf_row0_col3\" class=\"data row0 col3\" >0.791558</td>\n",
       "      <td id=\"T_cf8cf_row0_col4\" class=\"data row0 col4\" >0.809986</td>\n",
       "      <td id=\"T_cf8cf_row0_col5\" class=\"data row0 col5\" >-0.411531</td>\n",
       "      <td id=\"T_cf8cf_row0_col6\" class=\"data row0 col6\" >0.053981</td>\n",
       "      <td id=\"T_cf8cf_row0_col7\" class=\"data row0 col7\" >0.600809</td>\n",
       "      <td id=\"T_cf8cf_row0_col8\" class=\"data row0 col8\" >0.921469</td>\n",
       "      <td id=\"T_cf8cf_row0_col9\" class=\"data row0 col9\" >0.947032</td>\n",
       "      <td id=\"T_cf8cf_row0_col10\" class=\"data row0 col10\" >0.966916</td>\n",
       "    </tr>\n",
       "    <tr>\n",
       "      <th id=\"T_cf8cf_level0_row1\" class=\"row_heading level0 row1\" >at_bats</th>\n",
       "      <td id=\"T_cf8cf_row1_col0\" class=\"data row1 col0\" >0.610627</td>\n",
       "      <td id=\"T_cf8cf_row1_col1\" class=\"data row1 col1\" >1.000000</td>\n",
       "      <td id=\"T_cf8cf_row1_col2\" class=\"data row1 col2\" >0.846472</td>\n",
       "      <td id=\"T_cf8cf_row1_col3\" class=\"data row1 col3\" >0.376515</td>\n",
       "      <td id=\"T_cf8cf_row1_col4\" class=\"data row1 col4\" >0.755374</td>\n",
       "      <td id=\"T_cf8cf_row1_col5\" class=\"data row1 col5\" >-0.463424</td>\n",
       "      <td id=\"T_cf8cf_row1_col6\" class=\"data row1 col6\" >-0.107529</td>\n",
       "      <td id=\"T_cf8cf_row1_col7\" class=\"data row1 col7\" >0.062156</td>\n",
       "      <td id=\"T_cf8cf_row1_col8\" class=\"data row1 col8\" >0.598145</td>\n",
       "      <td id=\"T_cf8cf_row1_col9\" class=\"data row1 col9\" >0.620277</td>\n",
       "      <td id=\"T_cf8cf_row1_col10\" class=\"data row1 col10\" >0.627909</td>\n",
       "    </tr>\n",
       "    <tr>\n",
       "      <th id=\"T_cf8cf_level0_row2\" class=\"row_heading level0 row2\" >hits</th>\n",
       "      <td id=\"T_cf8cf_row2_col0\" class=\"data row2 col0\" >0.801211</td>\n",
       "      <td id=\"T_cf8cf_row2_col1\" class=\"data row2 col1\" >0.846472</td>\n",
       "      <td id=\"T_cf8cf_row2_col2\" class=\"data row2 col2\" >1.000000</td>\n",
       "      <td id=\"T_cf8cf_row2_col3\" class=\"data row2 col3\" >0.470838</td>\n",
       "      <td id=\"T_cf8cf_row2_col4\" class=\"data row2 col4\" >0.987958</td>\n",
       "      <td id=\"T_cf8cf_row2_col5\" class=\"data row2 col5\" >-0.617228</td>\n",
       "      <td id=\"T_cf8cf_row2_col6\" class=\"data row2 col6\" >-0.126330</td>\n",
       "      <td id=\"T_cf8cf_row2_col7\" class=\"data row2 col7\" >0.297659</td>\n",
       "      <td id=\"T_cf8cf_row2_col8\" class=\"data row2 col8\" >0.854846</td>\n",
       "      <td id=\"T_cf8cf_row2_col9\" class=\"data row2 col9\" >0.818238</td>\n",
       "      <td id=\"T_cf8cf_row2_col10\" class=\"data row2 col10\" >0.850833</td>\n",
       "    </tr>\n",
       "    <tr>\n",
       "      <th id=\"T_cf8cf_level0_row3\" class=\"row_heading level0 row3\" >homeruns</th>\n",
       "      <td id=\"T_cf8cf_row3_col0\" class=\"data row3 col0\" >0.791558</td>\n",
       "      <td id=\"T_cf8cf_row3_col1\" class=\"data row3 col1\" >0.376515</td>\n",
       "      <td id=\"T_cf8cf_row3_col2\" class=\"data row3 col2\" >0.470838</td>\n",
       "      <td id=\"T_cf8cf_row3_col3\" class=\"data row3 col3\" >1.000000</td>\n",
       "      <td id=\"T_cf8cf_row3_col4\" class=\"data row3 col4\" >0.471511</td>\n",
       "      <td id=\"T_cf8cf_row3_col5\" class=\"data row3 col5\" >-0.170755</td>\n",
       "      <td id=\"T_cf8cf_row3_col6\" class=\"data row3 col6\" >-0.117324</td>\n",
       "      <td id=\"T_cf8cf_row3_col7\" class=\"data row3 col7\" >0.660614</td>\n",
       "      <td id=\"T_cf8cf_row3_col8\" class=\"data row3 col8\" >0.616327</td>\n",
       "      <td id=\"T_cf8cf_row3_col9\" class=\"data row3 col9\" >0.862832</td>\n",
       "      <td id=\"T_cf8cf_row3_col10\" class=\"data row3 col10\" >0.810667</td>\n",
       "    </tr>\n",
       "    <tr>\n",
       "      <th id=\"T_cf8cf_level0_row4\" class=\"row_heading level0 row4\" >bat_avg</th>\n",
       "      <td id=\"T_cf8cf_row4_col0\" class=\"data row4 col0\" >0.809986</td>\n",
       "      <td id=\"T_cf8cf_row4_col1\" class=\"data row4 col1\" >0.755374</td>\n",
       "      <td id=\"T_cf8cf_row4_col2\" class=\"data row4 col2\" >0.987958</td>\n",
       "      <td id=\"T_cf8cf_row4_col3\" class=\"data row4 col3\" >0.471511</td>\n",
       "      <td id=\"T_cf8cf_row4_col4\" class=\"data row4 col4\" >1.000000</td>\n",
       "      <td id=\"T_cf8cf_row4_col5\" class=\"data row4 col5\" >-0.634814</td>\n",
       "      <td id=\"T_cf8cf_row4_col6\" class=\"data row4 col6\" >-0.123147</td>\n",
       "      <td id=\"T_cf8cf_row4_col7\" class=\"data row4 col7\" >0.350793</td>\n",
       "      <td id=\"T_cf8cf_row4_col8\" class=\"data row4 col8\" >0.882302</td>\n",
       "      <td id=\"T_cf8cf_row4_col9\" class=\"data row4 col9\" >0.828490</td>\n",
       "      <td id=\"T_cf8cf_row4_col10\" class=\"data row4 col10\" >0.867099</td>\n",
       "    </tr>\n",
       "    <tr>\n",
       "      <th id=\"T_cf8cf_level0_row5\" class=\"row_heading level0 row5\" >strikeouts</th>\n",
       "      <td id=\"T_cf8cf_row5_col0\" class=\"data row5 col0\" >-0.411531</td>\n",
       "      <td id=\"T_cf8cf_row5_col1\" class=\"data row5 col1\" >-0.463424</td>\n",
       "      <td id=\"T_cf8cf_row5_col2\" class=\"data row5 col2\" >-0.617228</td>\n",
       "      <td id=\"T_cf8cf_row5_col3\" class=\"data row5 col3\" >-0.170755</td>\n",
       "      <td id=\"T_cf8cf_row5_col4\" class=\"data row5 col4\" >-0.634814</td>\n",
       "      <td id=\"T_cf8cf_row5_col5\" class=\"data row5 col5\" >1.000000</td>\n",
       "      <td id=\"T_cf8cf_row5_col6\" class=\"data row5 col6\" >0.087642</td>\n",
       "      <td id=\"T_cf8cf_row5_col7\" class=\"data row5 col7\" >-0.280727</td>\n",
       "      <td id=\"T_cf8cf_row5_col8\" class=\"data row5 col8\" >-0.486880</td>\n",
       "      <td id=\"T_cf8cf_row5_col9\" class=\"data row5 col9\" >-0.409822</td>\n",
       "      <td id=\"T_cf8cf_row5_col10\" class=\"data row5 col10\" >-0.443975</td>\n",
       "    </tr>\n",
       "    <tr>\n",
       "      <th id=\"T_cf8cf_level0_row6\" class=\"row_heading level0 row6\" >stolen_bases</th>\n",
       "      <td id=\"T_cf8cf_row6_col0\" class=\"data row6 col0\" >0.053981</td>\n",
       "      <td id=\"T_cf8cf_row6_col1\" class=\"data row6 col1\" >-0.107529</td>\n",
       "      <td id=\"T_cf8cf_row6_col2\" class=\"data row6 col2\" >-0.126330</td>\n",
       "      <td id=\"T_cf8cf_row6_col3\" class=\"data row6 col3\" >-0.117324</td>\n",
       "      <td id=\"T_cf8cf_row6_col4\" class=\"data row6 col4\" >-0.123147</td>\n",
       "      <td id=\"T_cf8cf_row6_col5\" class=\"data row6 col5\" >0.087642</td>\n",
       "      <td id=\"T_cf8cf_row6_col6\" class=\"data row6 col6\" >1.000000</td>\n",
       "      <td id=\"T_cf8cf_row6_col7\" class=\"data row6 col7\" >-0.064594</td>\n",
       "      <td id=\"T_cf8cf_row6_col8\" class=\"data row6 col8\" >-0.033256</td>\n",
       "      <td id=\"T_cf8cf_row6_col9\" class=\"data row6 col9\" >-0.074128</td>\n",
       "      <td id=\"T_cf8cf_row6_col10\" class=\"data row6 col10\" >-0.061846</td>\n",
       "    </tr>\n",
       "    <tr>\n",
       "      <th id=\"T_cf8cf_level0_row7\" class=\"row_heading level0 row7\" >wins</th>\n",
       "      <td id=\"T_cf8cf_row7_col0\" class=\"data row7 col0\" >0.600809</td>\n",
       "      <td id=\"T_cf8cf_row7_col1\" class=\"data row7 col1\" >0.062156</td>\n",
       "      <td id=\"T_cf8cf_row7_col2\" class=\"data row7 col2\" >0.297659</td>\n",
       "      <td id=\"T_cf8cf_row7_col3\" class=\"data row7 col3\" >0.660614</td>\n",
       "      <td id=\"T_cf8cf_row7_col4\" class=\"data row7 col4\" >0.350793</td>\n",
       "      <td id=\"T_cf8cf_row7_col5\" class=\"data row7 col5\" >-0.280727</td>\n",
       "      <td id=\"T_cf8cf_row7_col6\" class=\"data row7 col6\" >-0.064594</td>\n",
       "      <td id=\"T_cf8cf_row7_col7\" class=\"data row7 col7\" >1.000000</td>\n",
       "      <td id=\"T_cf8cf_row7_col8\" class=\"data row7 col8\" >0.552278</td>\n",
       "      <td id=\"T_cf8cf_row7_col9\" class=\"data row7 col9\" >0.614166</td>\n",
       "      <td id=\"T_cf8cf_row7_col10\" class=\"data row7 col10\" >0.612075</td>\n",
       "    </tr>\n",
       "    <tr>\n",
       "      <th id=\"T_cf8cf_level0_row8\" class=\"row_heading level0 row8\" >new_onbase</th>\n",
       "      <td id=\"T_cf8cf_row8_col0\" class=\"data row8 col0\" >0.921469</td>\n",
       "      <td id=\"T_cf8cf_row8_col1\" class=\"data row8 col1\" >0.598145</td>\n",
       "      <td id=\"T_cf8cf_row8_col2\" class=\"data row8 col2\" >0.854846</td>\n",
       "      <td id=\"T_cf8cf_row8_col3\" class=\"data row8 col3\" >0.616327</td>\n",
       "      <td id=\"T_cf8cf_row8_col4\" class=\"data row8 col4\" >0.882302</td>\n",
       "      <td id=\"T_cf8cf_row8_col5\" class=\"data row8 col5\" >-0.486880</td>\n",
       "      <td id=\"T_cf8cf_row8_col6\" class=\"data row8 col6\" >-0.033256</td>\n",
       "      <td id=\"T_cf8cf_row8_col7\" class=\"data row8 col7\" >0.552278</td>\n",
       "      <td id=\"T_cf8cf_row8_col8\" class=\"data row8 col8\" >1.000000</td>\n",
       "      <td id=\"T_cf8cf_row8_col9\" class=\"data row8 col9\" >0.871865</td>\n",
       "      <td id=\"T_cf8cf_row8_col10\" class=\"data row8 col10\" >0.937283</td>\n",
       "    </tr>\n",
       "    <tr>\n",
       "      <th id=\"T_cf8cf_level0_row9\" class=\"row_heading level0 row9\" >new_slug</th>\n",
       "      <td id=\"T_cf8cf_row9_col0\" class=\"data row9 col0\" >0.947032</td>\n",
       "      <td id=\"T_cf8cf_row9_col1\" class=\"data row9 col1\" >0.620277</td>\n",
       "      <td id=\"T_cf8cf_row9_col2\" class=\"data row9 col2\" >0.818238</td>\n",
       "      <td id=\"T_cf8cf_row9_col3\" class=\"data row9 col3\" >0.862832</td>\n",
       "      <td id=\"T_cf8cf_row9_col4\" class=\"data row9 col4\" >0.828490</td>\n",
       "      <td id=\"T_cf8cf_row9_col5\" class=\"data row9 col5\" >-0.409822</td>\n",
       "      <td id=\"T_cf8cf_row9_col6\" class=\"data row9 col6\" >-0.074128</td>\n",
       "      <td id=\"T_cf8cf_row9_col7\" class=\"data row9 col7\" >0.614166</td>\n",
       "      <td id=\"T_cf8cf_row9_col8\" class=\"data row9 col8\" >0.871865</td>\n",
       "      <td id=\"T_cf8cf_row9_col9\" class=\"data row9 col9\" >1.000000</td>\n",
       "      <td id=\"T_cf8cf_row9_col10\" class=\"data row9 col10\" >0.987764</td>\n",
       "    </tr>\n",
       "    <tr>\n",
       "      <th id=\"T_cf8cf_level0_row10\" class=\"row_heading level0 row10\" >new_obs</th>\n",
       "      <td id=\"T_cf8cf_row10_col0\" class=\"data row10 col0\" >0.966916</td>\n",
       "      <td id=\"T_cf8cf_row10_col1\" class=\"data row10 col1\" >0.627909</td>\n",
       "      <td id=\"T_cf8cf_row10_col2\" class=\"data row10 col2\" >0.850833</td>\n",
       "      <td id=\"T_cf8cf_row10_col3\" class=\"data row10 col3\" >0.810667</td>\n",
       "      <td id=\"T_cf8cf_row10_col4\" class=\"data row10 col4\" >0.867099</td>\n",
       "      <td id=\"T_cf8cf_row10_col5\" class=\"data row10 col5\" >-0.443975</td>\n",
       "      <td id=\"T_cf8cf_row10_col6\" class=\"data row10 col6\" >-0.061846</td>\n",
       "      <td id=\"T_cf8cf_row10_col7\" class=\"data row10 col7\" >0.612075</td>\n",
       "      <td id=\"T_cf8cf_row10_col8\" class=\"data row10 col8\" >0.937283</td>\n",
       "      <td id=\"T_cf8cf_row10_col9\" class=\"data row10 col9\" >0.987764</td>\n",
       "      <td id=\"T_cf8cf_row10_col10\" class=\"data row10 col10\" >1.000000</td>\n",
       "    </tr>\n",
       "  </tbody>\n",
       "</table>\n"
      ],
      "text/plain": [
       "<pandas.io.formats.style.Styler at 0x1867dac9880>"
      ]
     },
     "execution_count": 4,
     "metadata": {},
     "output_type": "execute_result"
    }
   ],
   "source": [
    "df.corr(method=\"pearson\").style.background_gradient()"
   ]
  },
  {
   "cell_type": "markdown",
   "metadata": {},
   "source": [
    "Based on the above correlation matrix, it is clear that the variables **strikeouts** and **stolen_bases** have a low correlation with runs. This makes sense as a strikeout is inversely related to the batter getting runs and stolen_bases are significantly less frequent occurrences than some of the other metrics that add to runs. \n",
    "\n",
    "Hence, we can drop the strikeouts and stolen_bases variables and continue the analysis with the remaining variables. "
   ]
  },
  {
   "cell_type": "markdown",
   "metadata": {
    "id": "dNJxMXZPOqFF"
   },
   "source": [
    "### Drop variables with low correlation to *runs*"
   ]
  },
  {
   "cell_type": "code",
   "execution_count": 5,
   "metadata": {
    "colab": {
     "base_uri": "https://localhost:8080/",
     "height": 206
    },
    "id": "VC1grgKCOfgh",
    "outputId": "8b03512a-376d-48d6-bfc7-7fe223d0deaf"
   },
   "outputs": [
    {
     "data": {
      "text/html": [
       "<div>\n",
       "<style scoped>\n",
       "    .dataframe tbody tr th:only-of-type {\n",
       "        vertical-align: middle;\n",
       "    }\n",
       "\n",
       "    .dataframe tbody tr th {\n",
       "        vertical-align: top;\n",
       "    }\n",
       "\n",
       "    .dataframe thead th {\n",
       "        text-align: right;\n",
       "    }\n",
       "</style>\n",
       "<table border=\"1\" class=\"dataframe\">\n",
       "  <thead>\n",
       "    <tr style=\"text-align: right;\">\n",
       "      <th></th>\n",
       "      <th>runs</th>\n",
       "      <th>hits</th>\n",
       "      <th>homeruns</th>\n",
       "      <th>bat_avg</th>\n",
       "      <th>new_onbase</th>\n",
       "      <th>new_slug</th>\n",
       "      <th>new_obs</th>\n",
       "    </tr>\n",
       "  </thead>\n",
       "  <tbody>\n",
       "    <tr>\n",
       "      <th>1</th>\n",
       "      <td>855</td>\n",
       "      <td>1599</td>\n",
       "      <td>210</td>\n",
       "      <td>0.283</td>\n",
       "      <td>0.340</td>\n",
       "      <td>0.460</td>\n",
       "      <td>0.800</td>\n",
       "    </tr>\n",
       "    <tr>\n",
       "      <th>2</th>\n",
       "      <td>875</td>\n",
       "      <td>1600</td>\n",
       "      <td>203</td>\n",
       "      <td>0.280</td>\n",
       "      <td>0.349</td>\n",
       "      <td>0.461</td>\n",
       "      <td>0.810</td>\n",
       "    </tr>\n",
       "    <tr>\n",
       "      <th>3</th>\n",
       "      <td>787</td>\n",
       "      <td>1540</td>\n",
       "      <td>169</td>\n",
       "      <td>0.277</td>\n",
       "      <td>0.340</td>\n",
       "      <td>0.434</td>\n",
       "      <td>0.773</td>\n",
       "    </tr>\n",
       "    <tr>\n",
       "      <th>4</th>\n",
       "      <td>730</td>\n",
       "      <td>1560</td>\n",
       "      <td>129</td>\n",
       "      <td>0.275</td>\n",
       "      <td>0.329</td>\n",
       "      <td>0.415</td>\n",
       "      <td>0.744</td>\n",
       "    </tr>\n",
       "    <tr>\n",
       "      <th>5</th>\n",
       "      <td>762</td>\n",
       "      <td>1513</td>\n",
       "      <td>162</td>\n",
       "      <td>0.273</td>\n",
       "      <td>0.341</td>\n",
       "      <td>0.425</td>\n",
       "      <td>0.766</td>\n",
       "    </tr>\n",
       "  </tbody>\n",
       "</table>\n",
       "</div>"
      ],
      "text/plain": [
       "   runs  hits  homeruns  bat_avg  new_onbase  new_slug  new_obs\n",
       "1   855  1599       210    0.283       0.340     0.460    0.800\n",
       "2   875  1600       203    0.280       0.349     0.461    0.810\n",
       "3   787  1540       169    0.277       0.340     0.434    0.773\n",
       "4   730  1560       129    0.275       0.329     0.415    0.744\n",
       "5   762  1513       162    0.273       0.341     0.425    0.766"
      ]
     },
     "execution_count": 5,
     "metadata": {},
     "output_type": "execute_result"
    }
   ],
   "source": [
    "df = df.drop(['team','at_bats','strikeouts','stolen_bases','wins'],axis=1)\n",
    "df.head()"
   ]
  },
  {
   "cell_type": "markdown",
   "metadata": {
    "id": "tidrYY9ZKWLv"
   },
   "source": [
    "# EDA"
   ]
  },
  {
   "cell_type": "markdown",
   "metadata": {
    "id": "YNoKmoMGAZLs"
   },
   "source": [
    "### Plot histograms - *default* data"
   ]
  },
  {
   "cell_type": "code",
   "execution_count": 6,
   "metadata": {
    "colab": {
     "base_uri": "https://localhost:8080/",
     "height": 763
    },
    "id": "xNFNFgXrFsJi",
    "outputId": "0368a03c-a722-4a26-a2db-434a598574a9"
   },
   "outputs": [
    {
     "data": {
      "image/png": "[encoded data removed]",
      "text/plain": [
       "<Figure size 1152x576 with 6 Axes>"
      ]
     },
     "metadata": {
      "needs_background": "light"
     },
     "output_type": "display_data"
    },
    {
     "data": {
      "image/png": "[encoded data removed]",
      "text/plain": [
       "<Figure size 432x288 with 1 Axes>"
      ]
     },
     "metadata": {
      "needs_background": "light"
     },
     "output_type": "display_data"
    }
   ],
   "source": [
    "plot_hist(df)"
   ]
  },
  {
   "cell_type": "markdown",
   "metadata": {
    "id": "JVuT3s5MAhkB"
   },
   "source": [
    "### Plot histogram - *log* data"
   ]
  },
  {
   "cell_type": "code",
   "execution_count": 7,
   "metadata": {
    "colab": {
     "base_uri": "https://localhost:8080/",
     "height": 763
    },
    "id": "kw03FE1_Wr5E",
    "outputId": "42c76f8f-dc3d-477a-84f4-a8204225849e"
   },
   "outputs": [
    {
     "data": {
      "image/png": "[encoded data removed]",
      "text/plain": [
       "<Figure size 1152x576 with 6 Axes>"
      ]
     },
     "metadata": {
      "needs_background": "light"
     },
     "output_type": "display_data"
    },
    {
     "data": {
      "image/png": "[encoded data removed]",
      "text/plain": [
       "<Figure size 432x288 with 1 Axes>"
      ]
     },
     "metadata": {
      "needs_background": "light"
     },
     "output_type": "display_data"
    }
   ],
   "source": [
    "plot_hist(df.copy(),'log')"
   ]
  },
  {
   "cell_type": "markdown",
   "metadata": {
    "id": "0wJfiZxBArHI"
   },
   "source": [
    "### Plot histogram - *square root* data"
   ]
  },
  {
   "cell_type": "code",
   "execution_count": 8,
   "metadata": {
    "colab": {
     "base_uri": "https://localhost:8080/",
     "height": 763
    },
    "id": "laDMLFw0blrR",
    "outputId": "b75b8638-97a0-4295-8709-ac00bb36952c"
   },
   "outputs": [
    {
     "data": {
      "image/png": "[encoded data removed]",
      "text/plain": [
       "<Figure size 1152x576 with 6 Axes>"
      ]
     },
     "metadata": {
      "needs_background": "light"
     },
     "output_type": "display_data"
    },
    {
     "data": {
      "image/png": "[encoded data removed]",
      "text/plain": [
       "<Figure size 432x288 with 1 Axes>"
      ]
     },
     "metadata": {
      "needs_background": "light"
     },
     "output_type": "display_data"
    }
   ],
   "source": [
    "plot_hist(df.copy(),\"root\")"
   ]
  },
  {
   "cell_type": "markdown",
   "metadata": {
    "id": "6FcpCUaTAyAU"
   },
   "source": [
    "Plot histogram - *square* data"
   ]
  },
  {
   "cell_type": "code",
   "execution_count": 9,
   "metadata": {
    "colab": {
     "base_uri": "https://localhost:8080/",
     "height": 763
    },
    "id": "FieJxiGQbikC",
    "outputId": "79ba4bfa-e298-468b-c9f2-22a8a6a9c4b7"
   },
   "outputs": [
    {
     "data": {
      "image/png": "[encoded data removed]",
      "text/plain": [
       "<Figure size 1152x576 with 6 Axes>"
      ]
     },
     "metadata": {
      "needs_background": "light"
     },
     "output_type": "display_data"
    },
    {
     "data": {
      "image/png": "[encoded data removed]",
      "text/plain": [
       "<Figure size 432x288 with 1 Axes>"
      ]
     },
     "metadata": {
      "needs_background": "light"
     },
     "output_type": "display_data"
    }
   ],
   "source": [
    "plot_hist(df.copy(),\"square\")"
   ]
  },
  {
   "cell_type": "markdown",
   "metadata": {
    "id": "p35dUGsLA4-1"
   },
   "source": [
    "### Plot scatter - *default* data"
   ]
  },
  {
   "cell_type": "code",
   "execution_count": 10,
   "metadata": {
    "colab": {
     "base_uri": "https://localhost:8080/",
     "height": 767
    },
    "id": "0ReFsjLndazn",
    "outputId": "e5826192-ea17-4950-fb18-87616fb79ca7"
   },
   "outputs": [
    {
     "name": "stdout",
     "output_type": "stream",
     "text": [
      "<pandas.io.formats.style.Styler object at 0x000001867FF0BB80>\n"
     ]
    },
    {
     "data": {
      "image/png": "[encoded data removed]",
      "text/plain": [
       "<Figure size 1152x576 with 6 Axes>"
      ]
     },
     "metadata": {
      "needs_background": "light"
     },
     "output_type": "display_data"
    },
    {
     "data": {
      "text/html": [
       "<style type=\"text/css\">\n",
       "#T_79765_row0_col0, #T_79765_row1_col1, #T_79765_row2_col2, #T_79765_row3_col3, #T_79765_row4_col4, #T_79765_row5_col5, #T_79765_row6_col6 {\n",
       "  background-color: #023858;\n",
       "  color: #f1f1f1;\n",
       "}\n",
       "#T_79765_row0_col1, #T_79765_row1_col4, #T_79765_row4_col0 {\n",
       "  background-color: #3790c0;\n",
       "  color: #f1f1f1;\n",
       "}\n",
       "#T_79765_row0_col2 {\n",
       "  background-color: #3f93c2;\n",
       "  color: #f1f1f1;\n",
       "}\n",
       "#T_79765_row0_col3 {\n",
       "  background-color: #308cbe;\n",
       "  color: #f1f1f1;\n",
       "}\n",
       "#T_79765_row0_col4 {\n",
       "  background-color: #0568a3;\n",
       "  color: #f1f1f1;\n",
       "}\n",
       "#T_79765_row0_col5 {\n",
       "  background-color: #157ab5;\n",
       "  color: #f1f1f1;\n",
       "}\n",
       "#T_79765_row0_col6 {\n",
       "  background-color: #04629a;\n",
       "  color: #f1f1f1;\n",
       "}\n",
       "#T_79765_row1_col0 {\n",
       "  background-color: #f8f1f8;\n",
       "  color: #000000;\n",
       "}\n",
       "#T_79765_row1_col2, #T_79765_row1_col5, #T_79765_row2_col0, #T_79765_row2_col1, #T_79765_row2_col3, #T_79765_row2_col4, #T_79765_row2_col6, #T_79765_row3_col2 {\n",
       "  background-color: #fff7fb;\n",
       "  color: #000000;\n",
       "}\n",
       "#T_79765_row1_col3, #T_79765_row3_col1 {\n",
       "  background-color: #023d60;\n",
       "  color: #f1f1f1;\n",
       "}\n",
       "#T_79765_row1_col6 {\n",
       "  background-color: #d9d8ea;\n",
       "  color: #000000;\n",
       "}\n",
       "#T_79765_row2_col5 {\n",
       "  background-color: #d2d2e7;\n",
       "  color: #000000;\n",
       "}\n",
       "#T_79765_row3_col0 {\n",
       "  background-color: #f2ecf5;\n",
       "  color: #000000;\n",
       "}\n",
       "#T_79765_row3_col4 {\n",
       "  background-color: #1b7eb7;\n",
       "  color: #f1f1f1;\n",
       "}\n",
       "#T_79765_row3_col5 {\n",
       "  background-color: #f7f0f7;\n",
       "  color: #000000;\n",
       "}\n",
       "#T_79765_row3_col6 {\n",
       "  background-color: #c0c9e2;\n",
       "  color: #000000;\n",
       "}\n",
       "#T_79765_row4_col1 {\n",
       "  background-color: #0f76b3;\n",
       "  color: #f1f1f1;\n",
       "}\n",
       "#T_79765_row4_col2 {\n",
       "  background-color: #c8cde4;\n",
       "  color: #000000;\n",
       "}\n",
       "#T_79765_row4_col3 {\n",
       "  background-color: #056ba9;\n",
       "  color: #f1f1f1;\n",
       "}\n",
       "#T_79765_row4_col5 {\n",
       "  background-color: #c1cae2;\n",
       "  color: #000000;\n",
       "}\n",
       "#T_79765_row4_col6 {\n",
       "  background-color: #2484ba;\n",
       "  color: #f1f1f1;\n",
       "}\n",
       "#T_79765_row5_col0 {\n",
       "  background-color: #0771b1;\n",
       "  color: #f1f1f1;\n",
       "}\n",
       "#T_79765_row5_col1 {\n",
       "  background-color: #2987bc;\n",
       "  color: #f1f1f1;\n",
       "}\n",
       "#T_79765_row5_col2 {\n",
       "  background-color: #0872b1;\n",
       "  color: #f1f1f1;\n",
       "}\n",
       "#T_79765_row5_col3 {\n",
       "  background-color: #2383ba;\n",
       "  color: #f1f1f1;\n",
       "}\n",
       "#T_79765_row5_col4 {\n",
       "  background-color: #2685bb;\n",
       "  color: #f1f1f1;\n",
       "}\n",
       "#T_79765_row5_col6 {\n",
       "  background-color: #034973;\n",
       "  color: #f1f1f1;\n",
       "}\n",
       "#T_79765_row6_col0 {\n",
       "  background-color: #046096;\n",
       "  color: #f1f1f1;\n",
       "}\n",
       "#T_79765_row6_col1 {\n",
       "  background-color: #1278b4;\n",
       "  color: #f1f1f1;\n",
       "}\n",
       "#T_79765_row6_col2 {\n",
       "  background-color: #2f8bbe;\n",
       "  color: #f1f1f1;\n",
       "}\n",
       "#T_79765_row6_col3 {\n",
       "  background-color: #0570b0;\n",
       "  color: #f1f1f1;\n",
       "}\n",
       "#T_79765_row6_col4 {\n",
       "  background-color: #046097;\n",
       "  color: #f1f1f1;\n",
       "}\n",
       "#T_79765_row6_col5 {\n",
       "  background-color: #034a74;\n",
       "  color: #f1f1f1;\n",
       "}\n",
       "</style>\n",
       "<table id=\"T_79765_\">\n",
       "  <thead>\n",
       "    <tr>\n",
       "      <th class=\"blank level0\" >&nbsp;</th>\n",
       "      <th class=\"col_heading level0 col0\" >runs</th>\n",
       "      <th class=\"col_heading level0 col1\" >hits</th>\n",
       "      <th class=\"col_heading level0 col2\" >homeruns</th>\n",
       "      <th class=\"col_heading level0 col3\" >bat_avg</th>\n",
       "      <th class=\"col_heading level0 col4\" >new_onbase</th>\n",
       "      <th class=\"col_heading level0 col5\" >new_slug</th>\n",
       "      <th class=\"col_heading level0 col6\" >new_obs</th>\n",
       "    </tr>\n",
       "  </thead>\n",
       "  <tbody>\n",
       "    <tr>\n",
       "      <th id=\"T_79765_level0_row0\" class=\"row_heading level0 row0\" >runs</th>\n",
       "      <td id=\"T_79765_row0_col0\" class=\"data row0 col0\" >1.000000</td>\n",
       "      <td id=\"T_79765_row0_col1\" class=\"data row0 col1\" >0.801211</td>\n",
       "      <td id=\"T_79765_row0_col2\" class=\"data row0 col2\" >0.791558</td>\n",
       "      <td id=\"T_79765_row0_col3\" class=\"data row0 col3\" >0.809986</td>\n",
       "      <td id=\"T_79765_row0_col4\" class=\"data row0 col4\" >0.921469</td>\n",
       "      <td id=\"T_79765_row0_col5\" class=\"data row0 col5\" >0.947032</td>\n",
       "      <td id=\"T_79765_row0_col6\" class=\"data row0 col6\" >0.966916</td>\n",
       "    </tr>\n",
       "    <tr>\n",
       "      <th id=\"T_79765_level0_row1\" class=\"row_heading level0 row1\" >hits</th>\n",
       "      <td id=\"T_79765_row1_col0\" class=\"data row1 col0\" >0.801211</td>\n",
       "      <td id=\"T_79765_row1_col1\" class=\"data row1 col1\" >1.000000</td>\n",
       "      <td id=\"T_79765_row1_col2\" class=\"data row1 col2\" >0.470838</td>\n",
       "      <td id=\"T_79765_row1_col3\" class=\"data row1 col3\" >0.987958</td>\n",
       "      <td id=\"T_79765_row1_col4\" class=\"data row1 col4\" >0.854846</td>\n",
       "      <td id=\"T_79765_row1_col5\" class=\"data row1 col5\" >0.818238</td>\n",
       "      <td id=\"T_79765_row1_col6\" class=\"data row1 col6\" >0.850833</td>\n",
       "    </tr>\n",
       "    <tr>\n",
       "      <th id=\"T_79765_level0_row2\" class=\"row_heading level0 row2\" >homeruns</th>\n",
       "      <td id=\"T_79765_row2_col0\" class=\"data row2 col0\" >0.791558</td>\n",
       "      <td id=\"T_79765_row2_col1\" class=\"data row2 col1\" >0.470838</td>\n",
       "      <td id=\"T_79765_row2_col2\" class=\"data row2 col2\" >1.000000</td>\n",
       "      <td id=\"T_79765_row2_col3\" class=\"data row2 col3\" >0.471511</td>\n",
       "      <td id=\"T_79765_row2_col4\" class=\"data row2 col4\" >0.616327</td>\n",
       "      <td id=\"T_79765_row2_col5\" class=\"data row2 col5\" >0.862832</td>\n",
       "      <td id=\"T_79765_row2_col6\" class=\"data row2 col6\" >0.810667</td>\n",
       "    </tr>\n",
       "    <tr>\n",
       "      <th id=\"T_79765_level0_row3\" class=\"row_heading level0 row3\" >bat_avg</th>\n",
       "      <td id=\"T_79765_row3_col0\" class=\"data row3 col0\" >0.809986</td>\n",
       "      <td id=\"T_79765_row3_col1\" class=\"data row3 col1\" >0.987958</td>\n",
       "      <td id=\"T_79765_row3_col2\" class=\"data row3 col2\" >0.471511</td>\n",
       "      <td id=\"T_79765_row3_col3\" class=\"data row3 col3\" >1.000000</td>\n",
       "      <td id=\"T_79765_row3_col4\" class=\"data row3 col4\" >0.882302</td>\n",
       "      <td id=\"T_79765_row3_col5\" class=\"data row3 col5\" >0.828490</td>\n",
       "      <td id=\"T_79765_row3_col6\" class=\"data row3 col6\" >0.867099</td>\n",
       "    </tr>\n",
       "    <tr>\n",
       "      <th id=\"T_79765_level0_row4\" class=\"row_heading level0 row4\" >new_onbase</th>\n",
       "      <td id=\"T_79765_row4_col0\" class=\"data row4 col0\" >0.921469</td>\n",
       "      <td id=\"T_79765_row4_col1\" class=\"data row4 col1\" >0.854846</td>\n",
       "      <td id=\"T_79765_row4_col2\" class=\"data row4 col2\" >0.616327</td>\n",
       "      <td id=\"T_79765_row4_col3\" class=\"data row4 col3\" >0.882302</td>\n",
       "      <td id=\"T_79765_row4_col4\" class=\"data row4 col4\" >1.000000</td>\n",
       "      <td id=\"T_79765_row4_col5\" class=\"data row4 col5\" >0.871865</td>\n",
       "      <td id=\"T_79765_row4_col6\" class=\"data row4 col6\" >0.937283</td>\n",
       "    </tr>\n",
       "    <tr>\n",
       "      <th id=\"T_79765_level0_row5\" class=\"row_heading level0 row5\" >new_slug</th>\n",
       "      <td id=\"T_79765_row5_col0\" class=\"data row5 col0\" >0.947032</td>\n",
       "      <td id=\"T_79765_row5_col1\" class=\"data row5 col1\" >0.818238</td>\n",
       "      <td id=\"T_79765_row5_col2\" class=\"data row5 col2\" >0.862832</td>\n",
       "      <td id=\"T_79765_row5_col3\" class=\"data row5 col3\" >0.828490</td>\n",
       "      <td id=\"T_79765_row5_col4\" class=\"data row5 col4\" >0.871865</td>\n",
       "      <td id=\"T_79765_row5_col5\" class=\"data row5 col5\" >1.000000</td>\n",
       "      <td id=\"T_79765_row5_col6\" class=\"data row5 col6\" >0.987764</td>\n",
       "    </tr>\n",
       "    <tr>\n",
       "      <th id=\"T_79765_level0_row6\" class=\"row_heading level0 row6\" >new_obs</th>\n",
       "      <td id=\"T_79765_row6_col0\" class=\"data row6 col0\" >0.966916</td>\n",
       "      <td id=\"T_79765_row6_col1\" class=\"data row6 col1\" >0.850833</td>\n",
       "      <td id=\"T_79765_row6_col2\" class=\"data row6 col2\" >0.810667</td>\n",
       "      <td id=\"T_79765_row6_col3\" class=\"data row6 col3\" >0.867099</td>\n",
       "      <td id=\"T_79765_row6_col4\" class=\"data row6 col4\" >0.937283</td>\n",
       "      <td id=\"T_79765_row6_col5\" class=\"data row6 col5\" >0.987764</td>\n",
       "      <td id=\"T_79765_row6_col6\" class=\"data row6 col6\" >1.000000</td>\n",
       "    </tr>\n",
       "  </tbody>\n",
       "</table>\n"
      ],
      "text/plain": [
       "<pandas.io.formats.style.Styler at 0x1867fd38ee0>"
      ]
     },
     "execution_count": 10,
     "metadata": {},
     "output_type": "execute_result"
    }
   ],
   "source": [
    "plot_scatter(df.copy())\n",
    "df.corr(method=\"pearson\").style.background_gradient()"
   ]
  },
  {
   "cell_type": "markdown",
   "metadata": {
    "id": "QKQsyKPxBBLt"
   },
   "source": [
    "### Plot scatter - *log* data"
   ]
  },
  {
   "cell_type": "code",
   "execution_count": 11,
   "metadata": {
    "colab": {
     "base_uri": "https://localhost:8080/",
     "height": 767
    },
    "id": "iAgLhqXLrJiU",
    "outputId": "34923d44-3739-4abc-8b97-8a9e9daedc26"
   },
   "outputs": [
    {
     "name": "stdout",
     "output_type": "stream",
     "text": [
      "<pandas.io.formats.style.Styler object at 0x00000186014AA3D0>\n"
     ]
    },
    {
     "data": {
      "image/png": "[encoded data removed]",
      "text/plain": [
       "<Figure size 1152x576 with 6 Axes>"
      ]
     },
     "metadata": {
      "needs_background": "light"
     },
     "output_type": "display_data"
    },
    {
     "data": {
      "text/html": [
       "<style type=\"text/css\">\n",
       "#T_644ec_row0_col0, #T_644ec_row1_col1, #T_644ec_row2_col2, #T_644ec_row3_col3, #T_644ec_row4_col4, #T_644ec_row5_col5, #T_644ec_row6_col6 {\n",
       "  background-color: #023858;\n",
       "  color: #f1f1f1;\n",
       "}\n",
       "#T_644ec_row0_col1 {\n",
       "  background-color: #328dbf;\n",
       "  color: #f1f1f1;\n",
       "}\n",
       "#T_644ec_row0_col2 {\n",
       "  background-color: #529bc7;\n",
       "  color: #f1f1f1;\n",
       "}\n",
       "#T_644ec_row0_col3 {\n",
       "  background-color: #2a88bc;\n",
       "  color: #f1f1f1;\n",
       "}\n",
       "#T_644ec_row0_col4 {\n",
       "  background-color: #05659f;\n",
       "  color: #f1f1f1;\n",
       "}\n",
       "#T_644ec_row0_col5 {\n",
       "  background-color: #197db7;\n",
       "  color: #f1f1f1;\n",
       "}\n",
       "#T_644ec_row0_col6 {\n",
       "  background-color: #046198;\n",
       "  color: #f1f1f1;\n",
       "}\n",
       "#T_644ec_row1_col0 {\n",
       "  background-color: #e6e2ef;\n",
       "  color: #000000;\n",
       "}\n",
       "#T_644ec_row1_col2, #T_644ec_row1_col5, #T_644ec_row2_col0, #T_644ec_row2_col1, #T_644ec_row2_col3, #T_644ec_row2_col4, #T_644ec_row2_col6, #T_644ec_row3_col2 {\n",
       "  background-color: #fff7fb;\n",
       "  color: #000000;\n",
       "}\n",
       "#T_644ec_row1_col3, #T_644ec_row3_col1 {\n",
       "  background-color: #023d60;\n",
       "  color: #f1f1f1;\n",
       "}\n",
       "#T_644ec_row1_col4 {\n",
       "  background-color: #308cbe;\n",
       "  color: #f1f1f1;\n",
       "}\n",
       "#T_644ec_row1_col6 {\n",
       "  background-color: #ced0e6;\n",
       "  color: #000000;\n",
       "}\n",
       "#T_644ec_row2_col5 {\n",
       "  background-color: #d9d8ea;\n",
       "  color: #000000;\n",
       "}\n",
       "#T_644ec_row3_col0 {\n",
       "  background-color: #dddbec;\n",
       "  color: #000000;\n",
       "}\n",
       "#T_644ec_row3_col4 {\n",
       "  background-color: #157ab5;\n",
       "  color: #f1f1f1;\n",
       "}\n",
       "#T_644ec_row3_col5 {\n",
       "  background-color: #f7f0f7;\n",
       "  color: #000000;\n",
       "}\n",
       "#T_644ec_row3_col6 {\n",
       "  background-color: #b4c4df;\n",
       "  color: #000000;\n",
       "}\n",
       "#T_644ec_row4_col0 {\n",
       "  background-color: #2383ba;\n",
       "  color: #f1f1f1;\n",
       "}\n",
       "#T_644ec_row4_col1 {\n",
       "  background-color: #0a73b2;\n",
       "  color: #f1f1f1;\n",
       "}\n",
       "#T_644ec_row4_col2 {\n",
       "  background-color: #cccfe5;\n",
       "  color: #000000;\n",
       "}\n",
       "#T_644ec_row4_col3 {\n",
       "  background-color: #0569a5;\n",
       "  color: #f1f1f1;\n",
       "}\n",
       "#T_644ec_row4_col5 {\n",
       "  background-color: #c0c9e2;\n",
       "  color: #000000;\n",
       "}\n",
       "#T_644ec_row4_col6 {\n",
       "  background-color: #1e80b8;\n",
       "  color: #f1f1f1;\n",
       "}\n",
       "#T_644ec_row5_col0 {\n",
       "  background-color: #056dac;\n",
       "  color: #f1f1f1;\n",
       "}\n",
       "#T_644ec_row5_col1 {\n",
       "  background-color: #2786bb;\n",
       "  color: #f1f1f1;\n",
       "}\n",
       "#T_644ec_row5_col2 {\n",
       "  background-color: #0c74b2;\n",
       "  color: #f1f1f1;\n",
       "}\n",
       "#T_644ec_row5_col3, #T_644ec_row5_col4 {\n",
       "  background-color: #2182b9;\n",
       "  color: #f1f1f1;\n",
       "}\n",
       "#T_644ec_row5_col6 {\n",
       "  background-color: #034871;\n",
       "  color: #f1f1f1;\n",
       "}\n",
       "#T_644ec_row6_col0 {\n",
       "  background-color: #045d92;\n",
       "  color: #f1f1f1;\n",
       "}\n",
       "#T_644ec_row6_col1 {\n",
       "  background-color: #0f76b3;\n",
       "  color: #f1f1f1;\n",
       "}\n",
       "#T_644ec_row6_col2 {\n",
       "  background-color: #348ebf;\n",
       "  color: #f1f1f1;\n",
       "}\n",
       "#T_644ec_row6_col3 {\n",
       "  background-color: #056faf;\n",
       "  color: #f1f1f1;\n",
       "}\n",
       "#T_644ec_row6_col4 {\n",
       "  background-color: #046096;\n",
       "  color: #f1f1f1;\n",
       "}\n",
       "#T_644ec_row6_col5 {\n",
       "  background-color: #034a74;\n",
       "  color: #f1f1f1;\n",
       "}\n",
       "</style>\n",
       "<table id=\"T_644ec_\">\n",
       "  <thead>\n",
       "    <tr>\n",
       "      <th class=\"blank level0\" >&nbsp;</th>\n",
       "      <th class=\"col_heading level0 col0\" >runs</th>\n",
       "      <th class=\"col_heading level0 col1\" >hits</th>\n",
       "      <th class=\"col_heading level0 col2\" >homeruns</th>\n",
       "      <th class=\"col_heading level0 col3\" >bat_avg</th>\n",
       "      <th class=\"col_heading level0 col4\" >new_onbase</th>\n",
       "      <th class=\"col_heading level0 col5\" >new_slug</th>\n",
       "      <th class=\"col_heading level0 col6\" >new_obs</th>\n",
       "    </tr>\n",
       "  </thead>\n",
       "  <tbody>\n",
       "    <tr>\n",
       "      <th id=\"T_644ec_level0_row0\" class=\"row_heading level0 row0\" >runs</th>\n",
       "      <td id=\"T_644ec_row0_col0\" class=\"data row0 col0\" >1.000000</td>\n",
       "      <td id=\"T_644ec_row0_col1\" class=\"data row0 col1\" >0.801896</td>\n",
       "      <td id=\"T_644ec_row0_col2\" class=\"data row0 col2\" >0.765559</td>\n",
       "      <td id=\"T_644ec_row0_col3\" class=\"data row0 col3\" >0.811187</td>\n",
       "      <td id=\"T_644ec_row0_col4\" class=\"data row0 col4\" >0.923602</td>\n",
       "      <td id=\"T_644ec_row0_col5\" class=\"data row0 col5\" >0.944509</td>\n",
       "      <td id=\"T_644ec_row0_col6\" class=\"data row0 col6\" >0.966256</td>\n",
       "    </tr>\n",
       "    <tr>\n",
       "      <th id=\"T_644ec_level0_row1\" class=\"row_heading level0 row1\" >hits</th>\n",
       "      <td id=\"T_644ec_row1_col0\" class=\"data row1 col0\" >0.801896</td>\n",
       "      <td id=\"T_644ec_row1_col1\" class=\"data row1 col1\" >1.000000</td>\n",
       "      <td id=\"T_644ec_row1_col2\" class=\"data row1 col2\" >0.456900</td>\n",
       "      <td id=\"T_644ec_row1_col3\" class=\"data row1 col3\" >0.988072</td>\n",
       "      <td id=\"T_644ec_row1_col4\" class=\"data row1 col4\" >0.856256</td>\n",
       "      <td id=\"T_644ec_row1_col5\" class=\"data row1 col5\" >0.815886</td>\n",
       "      <td id=\"T_644ec_row1_col6\" class=\"data row1 col6\" >0.850473</td>\n",
       "    </tr>\n",
       "    <tr>\n",
       "      <th id=\"T_644ec_level0_row2\" class=\"row_heading level0 row2\" >homeruns</th>\n",
       "      <td id=\"T_644ec_row2_col0\" class=\"data row2 col0\" >0.765559</td>\n",
       "      <td id=\"T_644ec_row2_col1\" class=\"data row2 col1\" >0.456900</td>\n",
       "      <td id=\"T_644ec_row2_col2\" class=\"data row2 col2\" >1.000000</td>\n",
       "      <td id=\"T_644ec_row2_col3\" class=\"data row2 col3\" >0.456232</td>\n",
       "      <td id=\"T_644ec_row2_col4\" class=\"data row2 col4\" >0.600163</td>\n",
       "      <td id=\"T_644ec_row2_col5\" class=\"data row2 col5\" >0.854989</td>\n",
       "      <td id=\"T_644ec_row2_col6\" class=\"data row2 col6\" >0.799060</td>\n",
       "    </tr>\n",
       "    <tr>\n",
       "      <th id=\"T_644ec_level0_row3\" class=\"row_heading level0 row3\" >bat_avg</th>\n",
       "      <td id=\"T_644ec_row3_col0\" class=\"data row3 col0\" >0.811187</td>\n",
       "      <td id=\"T_644ec_row3_col1\" class=\"data row3 col1\" >0.988072</td>\n",
       "      <td id=\"T_644ec_row3_col2\" class=\"data row3 col2\" >0.456232</td>\n",
       "      <td id=\"T_644ec_row3_col3\" class=\"data row3 col3\" >1.000000</td>\n",
       "      <td id=\"T_644ec_row3_col4\" class=\"data row3 col4\" >0.883530</td>\n",
       "      <td id=\"T_644ec_row3_col5\" class=\"data row3 col5\" >0.825279</td>\n",
       "      <td id=\"T_644ec_row3_col6\" class=\"data row3 col6\" >0.866180</td>\n",
       "    </tr>\n",
       "    <tr>\n",
       "      <th id=\"T_644ec_level0_row4\" class=\"row_heading level0 row4\" >new_onbase</th>\n",
       "      <td id=\"T_644ec_row4_col0\" class=\"data row4 col0\" >0.923602</td>\n",
       "      <td id=\"T_644ec_row4_col1\" class=\"data row4 col1\" >0.856256</td>\n",
       "      <td id=\"T_644ec_row4_col2\" class=\"data row4 col2\" >0.600163</td>\n",
       "      <td id=\"T_644ec_row4_col3\" class=\"data row4 col3\" >0.883530</td>\n",
       "      <td id=\"T_644ec_row4_col4\" class=\"data row4 col4\" >1.000000</td>\n",
       "      <td id=\"T_644ec_row4_col5\" class=\"data row4 col5\" >0.870952</td>\n",
       "      <td id=\"T_644ec_row4_col6\" class=\"data row4 col6\" >0.937168</td>\n",
       "    </tr>\n",
       "    <tr>\n",
       "      <th id=\"T_644ec_level0_row5\" class=\"row_heading level0 row5\" >new_slug</th>\n",
       "      <td id=\"T_644ec_row5_col0\" class=\"data row5 col0\" >0.944509</td>\n",
       "      <td id=\"T_644ec_row5_col1\" class=\"data row5 col1\" >0.815886</td>\n",
       "      <td id=\"T_644ec_row5_col2\" class=\"data row5 col2\" >0.854989</td>\n",
       "      <td id=\"T_644ec_row5_col3\" class=\"data row5 col3\" >0.825279</td>\n",
       "      <td id=\"T_644ec_row5_col4\" class=\"data row5 col4\" >0.870952</td>\n",
       "      <td id=\"T_644ec_row5_col5\" class=\"data row5 col5\" >1.000000</td>\n",
       "      <td id=\"T_644ec_row5_col6\" class=\"data row5 col6\" >0.987520</td>\n",
       "    </tr>\n",
       "    <tr>\n",
       "      <th id=\"T_644ec_level0_row6\" class=\"row_heading level0 row6\" >new_obs</th>\n",
       "      <td id=\"T_644ec_row6_col0\" class=\"data row6 col0\" >0.966256</td>\n",
       "      <td id=\"T_644ec_row6_col1\" class=\"data row6 col1\" >0.850473</td>\n",
       "      <td id=\"T_644ec_row6_col2\" class=\"data row6 col2\" >0.799060</td>\n",
       "      <td id=\"T_644ec_row6_col3\" class=\"data row6 col3\" >0.866180</td>\n",
       "      <td id=\"T_644ec_row6_col4\" class=\"data row6 col4\" >0.937168</td>\n",
       "      <td id=\"T_644ec_row6_col5\" class=\"data row6 col5\" >0.987520</td>\n",
       "      <td id=\"T_644ec_row6_col6\" class=\"data row6 col6\" >1.000000</td>\n",
       "    </tr>\n",
       "  </tbody>\n",
       "</table>\n"
      ],
      "text/plain": [
       "<pandas.io.formats.style.Styler at 0x186015061f0>"
      ]
     },
     "execution_count": 11,
     "metadata": {},
     "output_type": "execute_result"
    }
   ],
   "source": [
    "plot_scatter(df.copy(),\"log\")\n",
    "df_log = df_transform(df.copy(),\"log\")\n",
    "df_log.corr(method=\"pearson\").style.background_gradient()"
   ]
  },
  {
   "cell_type": "markdown",
   "metadata": {
    "id": "QnoDCjZiBC0y"
   },
   "source": [
    "### Plot scatter - *square root* data"
   ]
  },
  {
   "cell_type": "code",
   "execution_count": 12,
   "metadata": {
    "colab": {
     "base_uri": "https://localhost:8080/",
     "height": 767
    },
    "id": "vzQC2V8Hwo5z",
    "outputId": "7c833f9b-c90f-4b6a-a39a-219c9b006518"
   },
   "outputs": [
    {
     "name": "stdout",
     "output_type": "stream",
     "text": [
      "<pandas.io.formats.style.Styler object at 0x000001860171E4C0>\n"
     ]
    },
    {
     "data": {
      "image/png": "[encoded data removed]",
      "text/plain": [
       "<Figure size 1152x576 with 6 Axes>"
      ]
     },
     "metadata": {
      "needs_background": "light"
     },
     "output_type": "display_data"
    },
    {
     "data": {
      "text/html": [
       "<style type=\"text/css\">\n",
       "#T_d7c07_row0_col0, #T_d7c07_row1_col1, #T_d7c07_row2_col2, #T_d7c07_row3_col3, #T_d7c07_row4_col4, #T_d7c07_row5_col5, #T_d7c07_row6_col6 {\n",
       "  background-color: #023858;\n",
       "  color: #f1f1f1;\n",
       "}\n",
       "#T_d7c07_row0_col1, #T_d7c07_row1_col4 {\n",
       "  background-color: #348ebf;\n",
       "  color: #f1f1f1;\n",
       "}\n",
       "#T_d7c07_row0_col2 {\n",
       "  background-color: #4897c4;\n",
       "  color: #f1f1f1;\n",
       "}\n",
       "#T_d7c07_row0_col3 {\n",
       "  background-color: #2d8abd;\n",
       "  color: #f1f1f1;\n",
       "}\n",
       "#T_d7c07_row0_col4 {\n",
       "  background-color: #0567a1;\n",
       "  color: #f1f1f1;\n",
       "}\n",
       "#T_d7c07_row0_col5 {\n",
       "  background-color: #167bb6;\n",
       "  color: #f1f1f1;\n",
       "}\n",
       "#T_d7c07_row0_col6 {\n",
       "  background-color: #046299;\n",
       "  color: #f1f1f1;\n",
       "}\n",
       "#T_d7c07_row1_col0 {\n",
       "  background-color: #f0eaf4;\n",
       "  color: #000000;\n",
       "}\n",
       "#T_d7c07_row1_col2, #T_d7c07_row1_col5, #T_d7c07_row2_col0, #T_d7c07_row2_col1, #T_d7c07_row2_col3, #T_d7c07_row2_col4, #T_d7c07_row2_col6, #T_d7c07_row3_col2 {\n",
       "  background-color: #fff7fb;\n",
       "  color: #000000;\n",
       "}\n",
       "#T_d7c07_row1_col3, #T_d7c07_row3_col1 {\n",
       "  background-color: #023d60;\n",
       "  color: #f1f1f1;\n",
       "}\n",
       "#T_d7c07_row1_col6, #T_d7c07_row2_col5 {\n",
       "  background-color: #d4d4e8;\n",
       "  color: #000000;\n",
       "}\n",
       "#T_d7c07_row3_col0 {\n",
       "  background-color: #e7e3f0;\n",
       "  color: #000000;\n",
       "}\n",
       "#T_d7c07_row3_col4 {\n",
       "  background-color: #187cb6;\n",
       "  color: #f1f1f1;\n",
       "}\n",
       "#T_d7c07_row3_col5 {\n",
       "  background-color: #f7f0f7;\n",
       "  color: #000000;\n",
       "}\n",
       "#T_d7c07_row3_col6 {\n",
       "  background-color: #bbc7e0;\n",
       "  color: #000000;\n",
       "}\n",
       "#T_d7c07_row4_col0 {\n",
       "  background-color: #2c89bd;\n",
       "  color: #f1f1f1;\n",
       "}\n",
       "#T_d7c07_row4_col1 {\n",
       "  background-color: #0c74b2;\n",
       "  color: #f1f1f1;\n",
       "}\n",
       "#T_d7c07_row4_col2 {\n",
       "  background-color: #c9cee4;\n",
       "  color: #000000;\n",
       "}\n",
       "#T_d7c07_row4_col3 {\n",
       "  background-color: #056aa6;\n",
       "  color: #f1f1f1;\n",
       "}\n",
       "#T_d7c07_row4_col5 {\n",
       "  background-color: #c0c9e2;\n",
       "  color: #000000;\n",
       "}\n",
       "#T_d7c07_row4_col6, #T_d7c07_row5_col3 {\n",
       "  background-color: #2182b9;\n",
       "  color: #f1f1f1;\n",
       "}\n",
       "#T_d7c07_row5_col0 {\n",
       "  background-color: #056fae;\n",
       "  color: #f1f1f1;\n",
       "}\n",
       "#T_d7c07_row5_col1 {\n",
       "  background-color: #2987bc;\n",
       "  color: #f1f1f1;\n",
       "}\n",
       "#T_d7c07_row5_col2 {\n",
       "  background-color: #0a73b2;\n",
       "  color: #f1f1f1;\n",
       "}\n",
       "#T_d7c07_row5_col4 {\n",
       "  background-color: #2484ba;\n",
       "  color: #f1f1f1;\n",
       "}\n",
       "#T_d7c07_row5_col6 {\n",
       "  background-color: #034973;\n",
       "  color: #f1f1f1;\n",
       "}\n",
       "#T_d7c07_row6_col0 {\n",
       "  background-color: #045e94;\n",
       "  color: #f1f1f1;\n",
       "}\n",
       "#T_d7c07_row6_col1 {\n",
       "  background-color: #1077b4;\n",
       "  color: #f1f1f1;\n",
       "}\n",
       "#T_d7c07_row6_col2 {\n",
       "  background-color: #308cbe;\n",
       "  color: #f1f1f1;\n",
       "}\n",
       "#T_d7c07_row6_col3 {\n",
       "  background-color: #056faf;\n",
       "  color: #f1f1f1;\n",
       "}\n",
       "#T_d7c07_row6_col4 {\n",
       "  background-color: #046097;\n",
       "  color: #f1f1f1;\n",
       "}\n",
       "#T_d7c07_row6_col5 {\n",
       "  background-color: #034a74;\n",
       "  color: #f1f1f1;\n",
       "}\n",
       "</style>\n",
       "<table id=\"T_d7c07_\">\n",
       "  <thead>\n",
       "    <tr>\n",
       "      <th class=\"blank level0\" >&nbsp;</th>\n",
       "      <th class=\"col_heading level0 col0\" >runs</th>\n",
       "      <th class=\"col_heading level0 col1\" >hits</th>\n",
       "      <th class=\"col_heading level0 col2\" >homeruns</th>\n",
       "      <th class=\"col_heading level0 col3\" >bat_avg</th>\n",
       "      <th class=\"col_heading level0 col4\" >new_onbase</th>\n",
       "      <th class=\"col_heading level0 col5\" >new_slug</th>\n",
       "      <th class=\"col_heading level0 col6\" >new_obs</th>\n",
       "    </tr>\n",
       "  </thead>\n",
       "  <tbody>\n",
       "    <tr>\n",
       "      <th id=\"T_d7c07_level0_row0\" class=\"row_heading level0 row0\" >runs</th>\n",
       "      <td id=\"T_d7c07_row0_col0\" class=\"data row0 col0\" >1.000000</td>\n",
       "      <td id=\"T_d7c07_row0_col1\" class=\"data row0 col1\" >0.801712</td>\n",
       "      <td id=\"T_d7c07_row0_col2\" class=\"data row0 col2\" >0.778814</td>\n",
       "      <td id=\"T_d7c07_row0_col3\" class=\"data row0 col3\" >0.810805</td>\n",
       "      <td id=\"T_d7c07_row0_col4\" class=\"data row0 col4\" >0.922766</td>\n",
       "      <td id=\"T_d7c07_row0_col5\" class=\"data row0 col5\" >0.945914</td>\n",
       "      <td id=\"T_d7c07_row0_col6\" class=\"data row0 col6\" >0.966759</td>\n",
       "    </tr>\n",
       "    <tr>\n",
       "      <th id=\"T_d7c07_level0_row1\" class=\"row_heading level0 row1\" >hits</th>\n",
       "      <td id=\"T_d7c07_row1_col0\" class=\"data row1 col0\" >0.801712</td>\n",
       "      <td id=\"T_d7c07_row1_col1\" class=\"data row1 col1\" >1.000000</td>\n",
       "      <td id=\"T_d7c07_row1_col2\" class=\"data row1 col2\" >0.464005</td>\n",
       "      <td id=\"T_d7c07_row1_col3\" class=\"data row1 col3\" >0.988025</td>\n",
       "      <td id=\"T_d7c07_row1_col4\" class=\"data row1 col4\" >0.855585</td>\n",
       "      <td id=\"T_d7c07_row1_col5\" class=\"data row1 col5\" >0.817011</td>\n",
       "      <td id=\"T_d7c07_row1_col6\" class=\"data row1 col6\" >0.850630</td>\n",
       "    </tr>\n",
       "    <tr>\n",
       "      <th id=\"T_d7c07_level0_row2\" class=\"row_heading level0 row2\" >homeruns</th>\n",
       "      <td id=\"T_d7c07_row2_col0\" class=\"data row2 col0\" >0.778814</td>\n",
       "      <td id=\"T_d7c07_row2_col1\" class=\"data row2 col1\" >0.464005</td>\n",
       "      <td id=\"T_d7c07_row2_col2\" class=\"data row2 col2\" >1.000000</td>\n",
       "      <td id=\"T_d7c07_row2_col3\" class=\"data row2 col3\" >0.464057</td>\n",
       "      <td id=\"T_d7c07_row2_col4\" class=\"data row2 col4\" >0.608649</td>\n",
       "      <td id=\"T_d7c07_row2_col5\" class=\"data row2 col5\" >0.859526</td>\n",
       "      <td id=\"T_d7c07_row2_col6\" class=\"data row2 col6\" >0.805458</td>\n",
       "    </tr>\n",
       "    <tr>\n",
       "      <th id=\"T_d7c07_level0_row3\" class=\"row_heading level0 row3\" >bat_avg</th>\n",
       "      <td id=\"T_d7c07_row3_col0\" class=\"data row3 col0\" >0.810805</td>\n",
       "      <td id=\"T_d7c07_row3_col1\" class=\"data row3 col1\" >0.988025</td>\n",
       "      <td id=\"T_d7c07_row3_col2\" class=\"data row3 col2\" >0.464057</td>\n",
       "      <td id=\"T_d7c07_row3_col3\" class=\"data row3 col3\" >1.000000</td>\n",
       "      <td id=\"T_d7c07_row3_col4\" class=\"data row3 col4\" >0.882937</td>\n",
       "      <td id=\"T_d7c07_row3_col5\" class=\"data row3 col5\" >0.826880</td>\n",
       "      <td id=\"T_d7c07_row3_col6\" class=\"data row3 col6\" >0.866640</td>\n",
       "    </tr>\n",
       "    <tr>\n",
       "      <th id=\"T_d7c07_level0_row4\" class=\"row_heading level0 row4\" >new_onbase</th>\n",
       "      <td id=\"T_d7c07_row4_col0\" class=\"data row4 col0\" >0.922766</td>\n",
       "      <td id=\"T_d7c07_row4_col1\" class=\"data row4 col1\" >0.855585</td>\n",
       "      <td id=\"T_d7c07_row4_col2\" class=\"data row4 col2\" >0.608649</td>\n",
       "      <td id=\"T_d7c07_row4_col3\" class=\"data row4 col3\" >0.882937</td>\n",
       "      <td id=\"T_d7c07_row4_col4\" class=\"data row4 col4\" >1.000000</td>\n",
       "      <td id=\"T_d7c07_row4_col5\" class=\"data row4 col5\" >0.871444</td>\n",
       "      <td id=\"T_d7c07_row4_col6\" class=\"data row4 col6\" >0.937240</td>\n",
       "    </tr>\n",
       "    <tr>\n",
       "      <th id=\"T_d7c07_level0_row5\" class=\"row_heading level0 row5\" >new_slug</th>\n",
       "      <td id=\"T_d7c07_row5_col0\" class=\"data row5 col0\" >0.945914</td>\n",
       "      <td id=\"T_d7c07_row5_col1\" class=\"data row5 col1\" >0.817011</td>\n",
       "      <td id=\"T_d7c07_row5_col2\" class=\"data row5 col2\" >0.859526</td>\n",
       "      <td id=\"T_d7c07_row5_col3\" class=\"data row5 col3\" >0.826880</td>\n",
       "      <td id=\"T_d7c07_row5_col4\" class=\"data row5 col4\" >0.871444</td>\n",
       "      <td id=\"T_d7c07_row5_col5\" class=\"data row5 col5\" >1.000000</td>\n",
       "      <td id=\"T_d7c07_row5_col6\" class=\"data row5 col6\" >0.987650</td>\n",
       "    </tr>\n",
       "    <tr>\n",
       "      <th id=\"T_d7c07_level0_row6\" class=\"row_heading level0 row6\" >new_obs</th>\n",
       "      <td id=\"T_d7c07_row6_col0\" class=\"data row6 col0\" >0.966759</td>\n",
       "      <td id=\"T_d7c07_row6_col1\" class=\"data row6 col1\" >0.850630</td>\n",
       "      <td id=\"T_d7c07_row6_col2\" class=\"data row6 col2\" >0.805458</td>\n",
       "      <td id=\"T_d7c07_row6_col3\" class=\"data row6 col3\" >0.866640</td>\n",
       "      <td id=\"T_d7c07_row6_col4\" class=\"data row6 col4\" >0.937240</td>\n",
       "      <td id=\"T_d7c07_row6_col5\" class=\"data row6 col5\" >0.987650</td>\n",
       "      <td id=\"T_d7c07_row6_col6\" class=\"data row6 col6\" >1.000000</td>\n",
       "    </tr>\n",
       "  </tbody>\n",
       "</table>\n"
      ],
      "text/plain": [
       "<pandas.io.formats.style.Styler at 0x186016e0b80>"
      ]
     },
     "execution_count": 12,
     "metadata": {},
     "output_type": "execute_result"
    }
   ],
   "source": [
    "plot_scatter(df.copy(),\"root\")\n",
    "df_root = df_transform(df.copy(),\"root\")\n",
    "df_root.corr(method=\"pearson\").style.background_gradient()"
   ]
  },
  {
   "cell_type": "markdown",
   "metadata": {
    "id": "o-KFw8ZkBFG7"
   },
   "source": [
    "### Plot scatter - *square* data"
   ]
  },
  {
   "cell_type": "code",
   "execution_count": 13,
   "metadata": {
    "colab": {
     "base_uri": "https://localhost:8080/",
     "height": 778
    },
    "id": "LN19OxROwsY9",
    "outputId": "8eaf5f2d-79b1-4e1e-a996-a5f49989188b"
   },
   "outputs": [
    {
     "name": "stdout",
     "output_type": "stream",
     "text": [
      "<pandas.io.formats.style.Styler object at 0x000001860171A280>\n"
     ]
    },
    {
     "data": {
      "image/png": "[encoded data removed]",
      "text/plain": [
       "<Figure size 1152x576 with 6 Axes>"
      ]
     },
     "metadata": {
      "needs_background": "light"
     },
     "output_type": "display_data"
    },
    {
     "data": {
      "text/html": [
       "<style type=\"text/css\">\n",
       "#T_50689_row0_col0, #T_50689_row1_col1, #T_50689_row2_col2, #T_50689_row3_col3, #T_50689_row4_col4, #T_50689_row5_col5, #T_50689_row6_col6 {\n",
       "  background-color: #023858;\n",
       "  color: #f1f1f1;\n",
       "}\n",
       "#T_50689_row0_col1 {\n",
       "  background-color: #3d93c2;\n",
       "  color: #f1f1f1;\n",
       "}\n",
       "#T_50689_row0_col2 {\n",
       "  background-color: #2f8bbe;\n",
       "  color: #f1f1f1;\n",
       "}\n",
       "#T_50689_row0_col3 {\n",
       "  background-color: #358fc0;\n",
       "  color: #f1f1f1;\n",
       "}\n",
       "#T_50689_row0_col4 {\n",
       "  background-color: #056ba7;\n",
       "  color: #f1f1f1;\n",
       "}\n",
       "#T_50689_row0_col5, #T_50689_row6_col1 {\n",
       "  background-color: #1379b5;\n",
       "  color: #f1f1f1;\n",
       "}\n",
       "#T_50689_row0_col6 {\n",
       "  background-color: #04649e;\n",
       "  color: #f1f1f1;\n",
       "}\n",
       "#T_50689_row1_col0, #T_50689_row1_col2, #T_50689_row1_col5, #T_50689_row2_col1, #T_50689_row2_col3, #T_50689_row2_col4, #T_50689_row2_col6, #T_50689_row3_col2 {\n",
       "  background-color: #fff7fb;\n",
       "  color: #000000;\n",
       "}\n",
       "#T_50689_row1_col3, #T_50689_row3_col1 {\n",
       "  background-color: #023e62;\n",
       "  color: #f1f1f1;\n",
       "}\n",
       "#T_50689_row1_col4 {\n",
       "  background-color: #4094c3;\n",
       "  color: #f1f1f1;\n",
       "}\n",
       "#T_50689_row1_col6 {\n",
       "  background-color: #dedcec;\n",
       "  color: #000000;\n",
       "}\n",
       "#T_50689_row2_col0 {\n",
       "  background-color: #f3edf5;\n",
       "  color: #000000;\n",
       "}\n",
       "#T_50689_row2_col5 {\n",
       "  background-color: #d1d2e6;\n",
       "  color: #000000;\n",
       "}\n",
       "#T_50689_row3_col0 {\n",
       "  background-color: #faf2f8;\n",
       "  color: #000000;\n",
       "}\n",
       "#T_50689_row3_col4 {\n",
       "  background-color: #2182b9;\n",
       "  color: #f1f1f1;\n",
       "}\n",
       "#T_50689_row3_col5 {\n",
       "  background-color: #f6eff7;\n",
       "  color: #000000;\n",
       "}\n",
       "#T_50689_row3_col6 {\n",
       "  background-color: #c6cce3;\n",
       "  color: #000000;\n",
       "}\n",
       "#T_50689_row4_col0 {\n",
       "  background-color: #4897c4;\n",
       "  color: #f1f1f1;\n",
       "}\n",
       "#T_50689_row4_col1 {\n",
       "  background-color: #1278b4;\n",
       "  color: #f1f1f1;\n",
       "}\n",
       "#T_50689_row4_col2 {\n",
       "  background-color: #c5cce3;\n",
       "  color: #000000;\n",
       "}\n",
       "#T_50689_row4_col3 {\n",
       "  background-color: #056dab;\n",
       "  color: #f1f1f1;\n",
       "}\n",
       "#T_50689_row4_col5 {\n",
       "  background-color: #c4cbe3;\n",
       "  color: #000000;\n",
       "}\n",
       "#T_50689_row4_col6, #T_50689_row5_col4 {\n",
       "  background-color: #2987bc;\n",
       "  color: #f1f1f1;\n",
       "}\n",
       "#T_50689_row5_col0, #T_50689_row6_col3 {\n",
       "  background-color: #0771b1;\n",
       "  color: #f1f1f1;\n",
       "}\n",
       "#T_50689_row5_col1 {\n",
       "  background-color: #2a88bc;\n",
       "  color: #f1f1f1;\n",
       "}\n",
       "#T_50689_row5_col2 {\n",
       "  background-color: #0872b1;\n",
       "  color: #f1f1f1;\n",
       "}\n",
       "#T_50689_row5_col3 {\n",
       "  background-color: #2383ba;\n",
       "  color: #f1f1f1;\n",
       "}\n",
       "#T_50689_row5_col6 {\n",
       "  background-color: #034973;\n",
       "  color: #f1f1f1;\n",
       "}\n",
       "#T_50689_row6_col0, #T_50689_row6_col4 {\n",
       "  background-color: #046299;\n",
       "  color: #f1f1f1;\n",
       "}\n",
       "#T_50689_row6_col2 {\n",
       "  background-color: #2d8abd;\n",
       "  color: #f1f1f1;\n",
       "}\n",
       "#T_50689_row6_col5 {\n",
       "  background-color: #034a74;\n",
       "  color: #f1f1f1;\n",
       "}\n",
       "</style>\n",
       "<table id=\"T_50689_\">\n",
       "  <thead>\n",
       "    <tr>\n",
       "      <th class=\"blank level0\" >&nbsp;</th>\n",
       "      <th class=\"col_heading level0 col0\" >runs</th>\n",
       "      <th class=\"col_heading level0 col1\" >hits</th>\n",
       "      <th class=\"col_heading level0 col2\" >homeruns</th>\n",
       "      <th class=\"col_heading level0 col3\" >bat_avg</th>\n",
       "      <th class=\"col_heading level0 col4\" >new_onbase</th>\n",
       "      <th class=\"col_heading level0 col5\" >new_slug</th>\n",
       "      <th class=\"col_heading level0 col6\" >new_obs</th>\n",
       "    </tr>\n",
       "  </thead>\n",
       "  <tbody>\n",
       "    <tr>\n",
       "      <th id=\"T_50689_level0_row0\" class=\"row_heading level0 row0\" >runs</th>\n",
       "      <td id=\"T_50689_row0_col0\" class=\"data row0 col0\" >1.000000</td>\n",
       "      <td id=\"T_50689_row0_col1\" class=\"data row0 col1\" >0.799188</td>\n",
       "      <td id=\"T_50689_row0_col2\" class=\"data row0 col2\" >0.814962</td>\n",
       "      <td id=\"T_50689_row0_col3\" class=\"data row0 col3\" >0.806960</td>\n",
       "      <td id=\"T_50689_row0_col4\" class=\"data row0 col4\" >0.917469</td>\n",
       "      <td id=\"T_50689_row0_col5\" class=\"data row0 col5\" >0.948422</td>\n",
       "      <td id=\"T_50689_row0_col6\" class=\"data row0 col6\" >0.966197</td>\n",
       "    </tr>\n",
       "    <tr>\n",
       "      <th id=\"T_50689_level0_row1\" class=\"row_heading level0 row1\" >hits</th>\n",
       "      <td id=\"T_50689_row1_col0\" class=\"data row1 col0\" >0.799188</td>\n",
       "      <td id=\"T_50689_row1_col1\" class=\"data row1 col1\" >1.000000</td>\n",
       "      <td id=\"T_50689_row1_col2\" class=\"data row1 col2\" >0.482799</td>\n",
       "      <td id=\"T_50689_row1_col3\" class=\"data row1 col3\" >0.987757</td>\n",
       "      <td id=\"T_50689_row1_col4\" class=\"data row1 col4\" >0.853154</td>\n",
       "      <td id=\"T_50689_row1_col5\" class=\"data row1 col5\" >0.820966</td>\n",
       "      <td id=\"T_50689_row1_col6\" class=\"data row1 col6\" >0.851361</td>\n",
       "    </tr>\n",
       "    <tr>\n",
       "      <th id=\"T_50689_level0_row2\" class=\"row_heading level0 row2\" >homeruns</th>\n",
       "      <td id=\"T_50689_row2_col0\" class=\"data row2 col0\" >0.814962</td>\n",
       "      <td id=\"T_50689_row2_col1\" class=\"data row2 col1\" >0.482799</td>\n",
       "      <td id=\"T_50689_row2_col2\" class=\"data row2 col2\" >1.000000</td>\n",
       "      <td id=\"T_50689_row2_col3\" class=\"data row2 col3\" >0.484398</td>\n",
       "      <td id=\"T_50689_row2_col4\" class=\"data row2 col4\" >0.628681</td>\n",
       "      <td id=\"T_50689_row2_col5\" class=\"data row2 col5\" >0.865289</td>\n",
       "      <td id=\"T_50689_row2_col6\" class=\"data row2 col6\" >0.816984</td>\n",
       "    </tr>\n",
       "    <tr>\n",
       "      <th id=\"T_50689_level0_row3\" class=\"row_heading level0 row3\" >bat_avg</th>\n",
       "      <td id=\"T_50689_row3_col0\" class=\"data row3 col0\" >0.806960</td>\n",
       "      <td id=\"T_50689_row3_col1\" class=\"data row3 col1\" >0.987757</td>\n",
       "      <td id=\"T_50689_row3_col2\" class=\"data row3 col2\" >0.484398</td>\n",
       "      <td id=\"T_50689_row3_col3\" class=\"data row3 col3\" >1.000000</td>\n",
       "      <td id=\"T_50689_row3_col4\" class=\"data row3 col4\" >0.880893</td>\n",
       "      <td id=\"T_50689_row3_col5\" class=\"data row3 col5\" >0.831691</td>\n",
       "      <td id=\"T_50689_row3_col6\" class=\"data row3 col6\" >0.867991</td>\n",
       "    </tr>\n",
       "    <tr>\n",
       "      <th id=\"T_50689_level0_row4\" class=\"row_heading level0 row4\" >new_onbase</th>\n",
       "      <td id=\"T_50689_row4_col0\" class=\"data row4 col0\" >0.917469</td>\n",
       "      <td id=\"T_50689_row4_col1\" class=\"data row4 col1\" >0.853154</td>\n",
       "      <td id=\"T_50689_row4_col2\" class=\"data row4 col2\" >0.628681</td>\n",
       "      <td id=\"T_50689_row4_col3\" class=\"data row4 col3\" >0.880893</td>\n",
       "      <td id=\"T_50689_row4_col4\" class=\"data row4 col4\" >1.000000</td>\n",
       "      <td id=\"T_50689_row4_col5\" class=\"data row4 col5\" >0.872466</td>\n",
       "      <td id=\"T_50689_row4_col6\" class=\"data row4 col6\" >0.937276</td>\n",
       "    </tr>\n",
       "    <tr>\n",
       "      <th id=\"T_50689_level0_row5\" class=\"row_heading level0 row5\" >new_slug</th>\n",
       "      <td id=\"T_50689_row5_col0\" class=\"data row5 col0\" >0.948422</td>\n",
       "      <td id=\"T_50689_row5_col1\" class=\"data row5 col1\" >0.820966</td>\n",
       "      <td id=\"T_50689_row5_col2\" class=\"data row5 col2\" >0.865289</td>\n",
       "      <td id=\"T_50689_row5_col3\" class=\"data row5 col3\" >0.831691</td>\n",
       "      <td id=\"T_50689_row5_col4\" class=\"data row5 col4\" >0.872466</td>\n",
       "      <td id=\"T_50689_row5_col5\" class=\"data row5 col5\" >1.000000</td>\n",
       "      <td id=\"T_50689_row5_col6\" class=\"data row5 col6\" >0.987938</td>\n",
       "    </tr>\n",
       "    <tr>\n",
       "      <th id=\"T_50689_level0_row6\" class=\"row_heading level0 row6\" >new_obs</th>\n",
       "      <td id=\"T_50689_row6_col0\" class=\"data row6 col0\" >0.966197</td>\n",
       "      <td id=\"T_50689_row6_col1\" class=\"data row6 col1\" >0.851361</td>\n",
       "      <td id=\"T_50689_row6_col2\" class=\"data row6 col2\" >0.816984</td>\n",
       "      <td id=\"T_50689_row6_col3\" class=\"data row6 col3\" >0.867991</td>\n",
       "      <td id=\"T_50689_row6_col4\" class=\"data row6 col4\" >0.937276</td>\n",
       "      <td id=\"T_50689_row6_col5\" class=\"data row6 col5\" >0.987938</td>\n",
       "      <td id=\"T_50689_row6_col6\" class=\"data row6 col6\" >1.000000</td>\n",
       "    </tr>\n",
       "  </tbody>\n",
       "</table>\n"
      ],
      "text/plain": [
       "<pandas.io.formats.style.Styler at 0x186011e49d0>"
      ]
     },
     "execution_count": 13,
     "metadata": {},
     "output_type": "execute_result"
    }
   ],
   "source": [
    "plot_scatter(df.copy(),\"square\")\n",
    "df_square = df_transform(df.copy(),\"square\")\n",
    "df_square.corr(method=\"pearson\").style.background_gradient()"
   ]
  },
  {
   "cell_type": "markdown",
   "metadata": {
    "id": "7idr8-fqw4iP"
   },
   "source": [
    "# Modeling - Simple Linear Regression"
   ]
  },
  {
   "cell_type": "markdown",
   "metadata": {},
   "source": [
    "### Runs vs hits"
   ]
  },
  {
   "cell_type": "code",
   "execution_count": 14,
   "metadata": {},
   "outputs": [
    {
     "name": "stdout",
     "output_type": "stream",
     "text": [
      "Equation: runs ~ hits \n",
      "\n",
      "                            OLS Regression Results                            \n",
      "==============================================================================\n",
      "Dep. Variable:                   runs   R-squared:                       0.642\n",
      "Model:                            OLS   Adj. R-squared:                  0.629\n",
      "Method:                 Least Squares   F-statistic:                     50.20\n",
      "Date:                Tue, 10 Jan 2023   Prob (F-statistic):           1.04e-07\n",
      "Time:                        19:19:16   Log-Likelihood:                -159.03\n",
      "No. Observations:                  30   AIC:                             322.1\n",
      "Df Residuals:                      28   BIC:                             324.9\n",
      "Df Model:                           1                                         \n",
      "Covariance Type:            nonrobust                                         \n",
      "==============================================================================\n",
      "                 coef    std err          t      P>|t|      [0.025      0.975]\n",
      "------------------------------------------------------------------------------\n",
      "Intercept   -375.5600    151.181     -2.484      0.019    -685.239     -65.881\n",
      "hits           0.7589      0.107      7.085      0.000       0.539       0.978\n",
      "==============================================================================\n",
      "Omnibus:                        4.635   Durbin-Watson:                   1.811\n",
      "Prob(Omnibus):                  0.099   Jarque-Bera (JB):                3.015\n",
      "Skew:                           0.585   Prob(JB):                        0.222\n",
      "Kurtosis:                       4.022   Cond. No.                     2.33e+04\n",
      "==============================================================================\n",
      "\n",
      "Notes:\n",
      "[1] Standard Errors assume that the covariance matrix of the errors is correctly specified.\n",
      "[2] The condition number is large, 2.33e+04. This might indicate that there are\n",
      "strong multicollinearity or other numerical problems.\n"
     ]
    },
    {
     "data": {
      "image/png": "[encoded data removed]",
      "text/plain": [
       "<Figure size 432x288 with 1 Axes>"
      ]
     },
     "metadata": {
      "needs_background": "light"
     },
     "output_type": "display_data"
    }
   ],
   "source": [
    "model = simple_linear_regression(df,'hits','runs')\n",
    "model_diagnostics(model)"
   ]
  },
  {
   "cell_type": "markdown",
   "metadata": {},
   "source": [
    "### Runs vs homeruns"
   ]
  },
  {
   "cell_type": "code",
   "execution_count": 15,
   "metadata": {},
   "outputs": [
    {
     "name": "stdout",
     "output_type": "stream",
     "text": [
      "Equation: runs ~ homeruns \n",
      "\n",
      "                            OLS Regression Results                            \n",
      "==============================================================================\n",
      "Dep. Variable:                   runs   R-squared:                       0.627\n",
      "Model:                            OLS   Adj. R-squared:                  0.613\n",
      "Method:                 Least Squares   F-statistic:                     46.98\n",
      "Date:                Tue, 10 Jan 2023   Prob (F-statistic):           1.90e-07\n",
      "Time:                        19:19:16   Log-Likelihood:                -159.66\n",
      "No. Observations:                  30   AIC:                             323.3\n",
      "Df Residuals:                      28   BIC:                             326.1\n",
      "Df Model:                           1                                         \n",
      "Covariance Type:            nonrobust                                         \n",
      "==============================================================================\n",
      "                 coef    std err          t      P>|t|      [0.025      0.975]\n",
      "------------------------------------------------------------------------------\n",
      "Intercept    415.2389     41.678      9.963      0.000     329.866     500.612\n",
      "homeruns       1.8345      0.268      6.854      0.000       1.286       2.383\n",
      "==============================================================================\n",
      "Omnibus:                        0.700   Durbin-Watson:                   0.970\n",
      "Prob(Omnibus):                  0.705   Jarque-Bera (JB):                0.736\n",
      "Skew:                           0.165   Prob(JB):                        0.692\n",
      "Kurtosis:                       2.307   Cond. No.                         693.\n",
      "==============================================================================\n",
      "\n",
      "Notes:\n",
      "[1] Standard Errors assume that the covariance matrix of the errors is correctly specified.\n"
     ]
    },
    {
     "data": {
      "image/png": "[encoded data removed]",
      "text/plain": [
       "<Figure size 432x288 with 1 Axes>"
      ]
     },
     "metadata": {
      "needs_background": "light"
     },
     "output_type": "display_data"
    }
   ],
   "source": [
    "model = simple_linear_regression(df,'homeruns','runs')\n",
    "model_diagnostics(model)"
   ]
  },
  {
   "cell_type": "markdown",
   "metadata": {},
   "source": [
    "### Runs vs bat_avg"
   ]
  },
  {
   "cell_type": "code",
   "execution_count": 16,
   "metadata": {},
   "outputs": [
    {
     "name": "stdout",
     "output_type": "stream",
     "text": [
      "Equation: runs ~ bat_avg \n",
      "\n",
      "                            OLS Regression Results                            \n",
      "==============================================================================\n",
      "Dep. Variable:                   runs   R-squared:                       0.656\n",
      "Model:                            OLS   Adj. R-squared:                  0.644\n",
      "Method:                 Least Squares   F-statistic:                     53.41\n",
      "Date:                Tue, 10 Jan 2023   Prob (F-statistic):           5.88e-08\n",
      "Time:                        19:19:16   Log-Likelihood:                -158.43\n",
      "No. Observations:                  30   AIC:                             320.9\n",
      "Df Residuals:                      28   BIC:                             323.7\n",
      "Df Model:                           1                                         \n",
      "Covariance Type:            nonrobust                                         \n",
      "==============================================================================\n",
      "                 coef    std err          t      P>|t|      [0.025      0.975]\n",
      "------------------------------------------------------------------------------\n",
      "Intercept   -642.8189    183.080     -3.511      0.002   -1017.841    -267.797\n",
      "bat_avg     5242.2291    717.282      7.308      0.000    3772.943    6711.515\n",
      "==============================================================================\n",
      "Omnibus:                        3.078   Durbin-Watson:                   1.891\n",
      "Prob(Omnibus):                  0.215   Jarque-Bera (JB):                1.837\n",
      "Skew:                           0.570   Prob(JB):                        0.399\n",
      "Kurtosis:                       3.410   Cond. No.                         85.0\n",
      "==============================================================================\n",
      "\n",
      "Notes:\n",
      "[1] Standard Errors assume that the covariance matrix of the errors is correctly specified.\n"
     ]
    },
    {
     "data": {
      "image/png": "[encoded data removed]",
      "text/plain": [
       "<Figure size 432x288 with 1 Axes>"
      ]
     },
     "metadata": {
      "needs_background": "light"
     },
     "output_type": "display_data"
    }
   ],
   "source": [
    "model = simple_linear_regression(df,'bat_avg','runs')\n",
    "model_diagnostics(model)"
   ]
  },
  {
   "cell_type": "markdown",
   "metadata": {},
   "source": [
    "### Runs vs new_onbase"
   ]
  },
  {
   "cell_type": "code",
   "execution_count": 17,
   "metadata": {},
   "outputs": [
    {
     "name": "stdout",
     "output_type": "stream",
     "text": [
      "Equation: runs ~ new_onbase \n",
      "\n",
      "                            OLS Regression Results                            \n",
      "==============================================================================\n",
      "Dep. Variable:                   runs   R-squared:                       0.849\n",
      "Model:                            OLS   Adj. R-squared:                  0.844\n",
      "Method:                 Least Squares   F-statistic:                     157.6\n",
      "Date:                Tue, 10 Jan 2023   Prob (F-statistic):           5.12e-13\n",
      "Time:                        19:19:17   Log-Likelihood:                -146.07\n",
      "No. Observations:                  30   AIC:                             296.1\n",
      "Df Residuals:                      28   BIC:                             298.9\n",
      "Df Model:                           1                                         \n",
      "Covariance Type:            nonrobust                                         \n",
      "==============================================================================\n",
      "                 coef    std err          t      P>|t|      [0.025      0.975]\n",
      "------------------------------------------------------------------------------\n",
      "Intercept  -1118.4198    144.480     -7.741      0.000   -1414.375    -822.465\n",
      "new_onbase  5654.3160    450.461     12.552      0.000    4731.588    6577.044\n",
      "==============================================================================\n",
      "Omnibus:                        0.018   Durbin-Watson:                   1.773\n",
      "Prob(Omnibus):                  0.991   Jarque-Bera (JB):                0.193\n",
      "Skew:                          -0.039   Prob(JB):                        0.908\n",
      "Kurtosis:                       2.615   Cond. No.                         83.4\n",
      "==============================================================================\n",
      "\n",
      "Notes:\n",
      "[1] Standard Errors assume that the covariance matrix of the errors is correctly specified.\n"
     ]
    },
    {
     "data": {
      "image/png": "[encoded data removed]",
      "text/plain": [
       "<Figure size 432x288 with 1 Axes>"
      ]
     },
     "metadata": {
      "needs_background": "light"
     },
     "output_type": "display_data"
    }
   ],
   "source": [
    "model = simple_linear_regression(df,'new_onbase','runs')\n",
    "model_diagnostics(model)"
   ]
  },
  {
   "cell_type": "markdown",
   "metadata": {},
   "source": [
    "### Runs vs new_slug"
   ]
  },
  {
   "cell_type": "code",
   "execution_count": 18,
   "metadata": {},
   "outputs": [
    {
     "name": "stdout",
     "output_type": "stream",
     "text": [
      "Equation: runs ~ new_slug \n",
      "\n",
      "                            OLS Regression Results                            \n",
      "==============================================================================\n",
      "Dep. Variable:                   runs   R-squared:                       0.897\n",
      "Model:                            OLS   Adj. R-squared:                  0.893\n",
      "Method:                 Least Squares   F-statistic:                     243.5\n",
      "Date:                Tue, 10 Jan 2023   Prob (F-statistic):           2.42e-15\n",
      "Time:                        19:19:17   Log-Likelihood:                -140.36\n",
      "No. Observations:                  30   AIC:                             284.7\n",
      "Df Residuals:                      28   BIC:                             287.5\n",
      "Df Model:                           1                                         \n",
      "Covariance Type:            nonrobust                                         \n",
      "==============================================================================\n",
      "                 coef    std err          t      P>|t|      [0.025      0.975]\n",
      "------------------------------------------------------------------------------\n",
      "Intercept   -375.8041     68.708     -5.470      0.000    -516.546    -235.062\n",
      "new_slug    2681.3309    171.830     15.605      0.000    2329.354    3033.308\n",
      "==============================================================================\n",
      "Omnibus:                        0.698   Durbin-Watson:                   2.463\n",
      "Prob(Omnibus):                  0.706   Jarque-Bera (JB):                0.690\n",
      "Skew:                          -0.030   Prob(JB):                        0.708\n",
      "Kurtosis:                       2.259   Cond. No.                         40.5\n",
      "==============================================================================\n",
      "\n",
      "Notes:\n",
      "[1] Standard Errors assume that the covariance matrix of the errors is correctly specified.\n"
     ]
    },
    {
     "data": {
      "image/png": "[encoded data removed]",
      "text/plain": [
       "<Figure size 432x288 with 1 Axes>"
      ]
     },
     "metadata": {
      "needs_background": "light"
     },
     "output_type": "display_data"
    }
   ],
   "source": [
    "model = simple_linear_regression(df,'new_slug','runs')\n",
    "model_diagnostics(model)"
   ]
  },
  {
   "cell_type": "markdown",
   "metadata": {},
   "source": [
    "### Runs vs new_obs"
   ]
  },
  {
   "cell_type": "code",
   "execution_count": 19,
   "metadata": {},
   "outputs": [
    {
     "name": "stdout",
     "output_type": "stream",
     "text": [
      "Equation: runs ~ new_obs \n",
      "\n",
      "                            OLS Regression Results                            \n",
      "==============================================================================\n",
      "Dep. Variable:                   runs   R-squared:                       0.935\n",
      "Model:                            OLS   Adj. R-squared:                  0.933\n",
      "Method:                 Least Squares   F-statistic:                     402.3\n",
      "Date:                Tue, 10 Jan 2023   Prob (F-statistic):           3.76e-18\n",
      "Time:                        19:19:17   Log-Likelihood:                -133.45\n",
      "No. Observations:                  30   AIC:                             270.9\n",
      "Df Residuals:                      28   BIC:                             273.7\n",
      "Df Model:                           1                                         \n",
      "Covariance Type:            nonrobust                                         \n",
      "==============================================================================\n",
      "                 coef    std err          t      P>|t|      [0.025      0.975]\n",
      "------------------------------------------------------------------------------\n",
      "Intercept   -686.6143     68.925     -9.962      0.000    -827.801    -545.427\n",
      "new_obs     1919.3636     95.695     20.057      0.000    1723.341    2115.386\n",
      "==============================================================================\n",
      "Omnibus:                        0.592   Durbin-Watson:                   2.313\n",
      "Prob(Omnibus):                  0.744   Jarque-Bera (JB):                0.653\n",
      "Skew:                          -0.092   Prob(JB):                        0.721\n",
      "Kurtosis:                       2.301   Cond. No.                         37.2\n",
      "==============================================================================\n",
      "\n",
      "Notes:\n",
      "[1] Standard Errors assume that the covariance matrix of the errors is correctly specified.\n"
     ]
    },
    {
     "data": {
      "image/png": "[encoded data removed]",
      "text/plain": [
       "<Figure size 432x288 with 1 Axes>"
      ]
     },
     "metadata": {
      "needs_background": "light"
     },
     "output_type": "display_data"
    }
   ],
   "source": [
    "model = simple_linear_regression(df,'new_obs','runs')\n",
    "model_diagnostics(model)"
   ]
  },
  {
   "cell_type": "markdown",
   "metadata": {},
   "source": [
    "Best explanatory variables based on R-squared value: \n",
    "- *new_obs*: 0.937\n",
    "- *new_slug*: 0.897\n",
    "- *new_onbase*: 0.849\n",
    "- *bat_avg*: 0.656\n",
    "- *homeruns*: 0.627\n",
    "- *hits*: 0.642\n",
    "\n",
    "Based on these results, we can clearly see that the 3 new variables perform significantly better than the original ones. "
   ]
  },
  {
   "cell_type": "markdown",
   "metadata": {},
   "source": [
    "# Modeling - Multiple Linear Regression"
   ]
  },
  {
   "cell_type": "markdown",
   "metadata": {},
   "source": [
    "### All variables"
   ]
  },
  {
   "cell_type": "code",
   "execution_count": 22,
   "metadata": {},
   "outputs": [
    {
     "name": "stdout",
     "output_type": "stream",
     "text": [
      "Equation: runs ~ new_obs + new_slug + new_onbase + bat_avg + homeruns + hits \n",
      "\n",
      "                            OLS Regression Results                            \n",
      "==============================================================================\n",
      "Dep. Variable:                   runs   R-squared:                       0.951\n",
      "Model:                            OLS   Adj. R-squared:                  0.938\n",
      "Method:                 Least Squares   F-statistic:                     73.89\n",
      "Date:                Tue, 10 Jan 2023   Prob (F-statistic):           7.17e-14\n",
      "Time:                        19:20:24   Log-Likelihood:                -129.30\n",
      "No. Observations:                  30   AIC:                             272.6\n",
      "Df Residuals:                      23   BIC:                             282.4\n",
      "Df Model:                           6                                         \n",
      "Covariance Type:            nonrobust                                         \n",
      "==============================================================================\n",
      "                 coef    std err          t      P>|t|      [0.025      0.975]\n",
      "------------------------------------------------------------------------------\n",
      "Intercept   -648.9003    128.734     -5.041      0.000    -915.206    -382.594\n",
      "new_obs     9644.7757   7176.138      1.344      0.192   -5200.196    2.45e+04\n",
      "new_slug   -7926.1160   7337.014     -1.080      0.291   -2.31e+04    7251.654\n",
      "new_onbase -6130.9655   7200.861     -0.851      0.403    -2.1e+04    8765.151\n",
      "bat_avg    -4380.6074   2457.838     -1.782      0.088   -9465.033     703.818\n",
      "homeruns      -0.0690      0.421     -0.164      0.871      -0.940       0.802\n",
      "hits           0.4686      0.298      1.574      0.129      -0.147       1.084\n",
      "==============================================================================\n",
      "Omnibus:                        5.508   Durbin-Watson:                   2.213\n",
      "Prob(Omnibus):                  0.064   Jarque-Bera (JB):                3.776\n",
      "Skew:                          -0.728   Prob(JB):                        0.151\n",
      "Kurtosis:                       3.950   Cond. No.                     4.73e+06\n",
      "==============================================================================\n",
      "\n",
      "Notes:\n",
      "[1] Standard Errors assume that the covariance matrix of the errors is correctly specified.\n",
      "[2] The condition number is large, 4.73e+06. This might indicate that there are\n",
      "strong multicollinearity or other numerical problems.\n"
     ]
    },
    {
     "data": {
      "image/png": "[encoded data removed]",
      "text/plain": [
       "<Figure size 432x288 with 1 Axes>"
      ]
     },
     "metadata": {
      "needs_background": "light"
     },
     "output_type": "display_data"
    }
   ],
   "source": [
    "model = multiple_linear_regression(df,['new_obs','new_slug','new_onbase','bat_avg','homeruns','hits'],'runs')\n",
    "model_diagnostics(model)"
   ]
  },
  {
   "cell_type": "markdown",
   "metadata": {},
   "source": [
    "### Only high correlation variables"
   ]
  },
  {
   "cell_type": "code",
   "execution_count": 23,
   "metadata": {},
   "outputs": [
    {
     "name": "stdout",
     "output_type": "stream",
     "text": [
      "Equation: runs ~ new_obs + new_slug + new_onbase \n",
      "\n",
      "                            OLS Regression Results                            \n",
      "==============================================================================\n",
      "Dep. Variable:                   runs   R-squared:                       0.941\n",
      "Model:                            OLS   Adj. R-squared:                  0.935\n",
      "Method:                 Least Squares   F-statistic:                     139.5\n",
      "Date:                Tue, 10 Jan 2023   Prob (F-statistic):           3.82e-16\n",
      "Time:                        19:22:03   Log-Likelihood:                -131.86\n",
      "No. Observations:                  30   AIC:                             271.7\n",
      "Df Residuals:                      26   BIC:                             277.3\n",
      "Df Model:                           3                                         \n",
      "Covariance Type:            nonrobust                                         \n",
      "==============================================================================\n",
      "                 coef    std err          t      P>|t|      [0.025      0.975]\n",
      "------------------------------------------------------------------------------\n",
      "Intercept   -771.1739    109.235     -7.060      0.000    -995.710    -546.638\n",
      "new_obs     1.166e+04   6923.184      1.684      0.104   -2575.077    2.59e+04\n",
      "new_slug   -1.013e+04   7028.119     -1.441      0.162   -2.46e+04    4318.649\n",
      "new_onbase -8979.2057   6814.892     -1.318      0.199    -2.3e+04    5029.005\n",
      "==============================================================================\n",
      "Omnibus:                        0.944   Durbin-Watson:                   2.184\n",
      "Prob(Omnibus):                  0.624   Jarque-Bera (JB):                0.800\n",
      "Skew:                          -0.376   Prob(JB):                        0.670\n",
      "Kurtosis:                       2.725   Cond. No.                     4.15e+03\n",
      "==============================================================================\n",
      "\n",
      "Notes:\n",
      "[1] Standard Errors assume that the covariance matrix of the errors is correctly specified.\n",
      "[2] The condition number is large, 4.15e+03. This might indicate that there are\n",
      "strong multicollinearity or other numerical problems.\n"
     ]
    },
    {
     "data": {
      "image/png": "[encoded data removed]",
      "text/plain": [
       "<Figure size 432x288 with 1 Axes>"
      ]
     },
     "metadata": {
      "needs_background": "light"
     },
     "output_type": "display_data"
    }
   ],
   "source": [
    "model = multiple_linear_regression(df,['new_obs','new_slug','new_onbase'],'runs')\n",
    "model_diagnostics(model)"
   ]
  },
  {
   "cell_type": "markdown",
   "metadata": {},
   "source": [
    "Since the three highly correlated variables are all well correlated with each other as well, it could possibly lead to multicollinearity. Therefore, it is probably best to include just one of these variables in the model. "
   ]
  },
  {
   "cell_type": "markdown",
   "metadata": {},
   "source": [
    "### Including *new_obs* plus the lesser correlated variables"
   ]
  },
  {
   "cell_type": "code",
   "execution_count": 24,
   "metadata": {},
   "outputs": [
    {
     "name": "stdout",
     "output_type": "stream",
     "text": [
      "Equation: runs ~ new_obs + bat_avg + homeruns + hits \n",
      "\n",
      "                            OLS Regression Results                            \n",
      "==============================================================================\n",
      "Dep. Variable:                   runs   R-squared:                       0.945\n",
      "Model:                            OLS   Adj. R-squared:                  0.936\n",
      "Method:                 Least Squares   F-statistic:                     107.2\n",
      "Date:                Tue, 10 Jan 2023   Prob (F-statistic):           2.36e-15\n",
      "Time:                        19:33:06   Log-Likelihood:                -130.96\n",
      "No. Observations:                  30   AIC:                             271.9\n",
      "Df Residuals:                      25   BIC:                             278.9\n",
      "Df Model:                           4                                         \n",
      "Covariance Type:            nonrobust                                         \n",
      "==============================================================================\n",
      "                 coef    std err          t      P>|t|      [0.025      0.975]\n",
      "------------------------------------------------------------------------------\n",
      "Intercept   -597.4316    123.299     -4.845      0.000    -851.370    -343.493\n",
      "new_obs     2765.7956    480.868      5.752      0.000    1775.429    3756.163\n",
      "bat_avg    -4670.0600   2485.516     -1.879      0.072   -9789.075     448.955\n",
      "homeruns      -0.4540      0.316     -1.435      0.164      -1.106       0.198\n",
      "hits           0.3986      0.299      1.334      0.194      -0.217       1.014\n",
      "==============================================================================\n",
      "Omnibus:                        1.497   Durbin-Watson:                   2.434\n",
      "Prob(Omnibus):                  0.473   Jarque-Bera (JB):                0.771\n",
      "Skew:                          -0.384   Prob(JB):                        0.680\n",
      "Kurtosis:                       3.161   Cond. No.                     9.34e+05\n",
      "==============================================================================\n",
      "\n",
      "Notes:\n",
      "[1] Standard Errors assume that the covariance matrix of the errors is correctly specified.\n",
      "[2] The condition number is large, 9.34e+05. This might indicate that there are\n",
      "strong multicollinearity or other numerical problems.\n"
     ]
    },
    {
     "data": {
      "image/png": "[encoded data removed]",
      "text/plain": [
       "<Figure size 432x288 with 1 Axes>"
      ]
     },
     "metadata": {
      "needs_background": "light"
     },
     "output_type": "display_data"
    }
   ],
   "source": [
    "model = multiple_linear_regression(df,['new_obs','bat_avg','homeruns','hits'],'runs')\n",
    "model_diagnostics(model)"
   ]
  },
  {
   "cell_type": "markdown",
   "metadata": {},
   "source": [
    "### "
   ]
  }
 ],
 "metadata": {
  "colab": {
   "collapsed_sections": [],
   "provenance": []
  },
  "kernelspec": {
   "display_name": "Python 3 (ipykernel)",
   "language": "python",
   "name": "python3"
  },
  "language_info": {
   "codemirror_mode": {
    "name": "ipython",
    "version": 3
   },
   "file_extension": ".py",
   "mimetype": "text/x-python",
   "name": "python",
   "nbconvert_exporter": "python",
   "pygments_lexer": "ipython3",
   "version": "3.8.5"
  }
 },
 "nbformat": 4,
 "nbformat_minor": 1
}
