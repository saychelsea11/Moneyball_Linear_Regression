{
 "cells": [
  {
   "cell_type": "markdown",
   "metadata": {
    "id": "LLrxDkXTAJLC"
   },
   "source": [
    "# Importing libraries"
   ]
  },
  {
   "cell_type": "code",
   "execution_count": 1,
   "metadata": {
    "id": "C67h6-owDaJ8"
   },
   "outputs": [
    {
     "ename": "ModuleNotFoundError",
     "evalue": "No module named 'sklearn'",
     "output_type": "error",
     "traceback": [
      "\u001b[1;31m---------------------------------------------------------------------------\u001b[0m",
      "\u001b[1;31mModuleNotFoundError\u001b[0m                       Traceback (most recent call last)",
      "Input \u001b[1;32mIn [1]\u001b[0m, in \u001b[0;36m<module>\u001b[1;34m\u001b[0m\n\u001b[0;32m      3\u001b[0m \u001b[38;5;28;01mimport\u001b[39;00m \u001b[38;5;21;01mmatplotlib\u001b[39;00m\u001b[38;5;21;01m.\u001b[39;00m\u001b[38;5;21;01mpyplot\u001b[39;00m \u001b[38;5;28;01mas\u001b[39;00m \u001b[38;5;21;01mplt\u001b[39;00m\n\u001b[0;32m      4\u001b[0m \u001b[38;5;28;01mimport\u001b[39;00m \u001b[38;5;21;01mseaborn\u001b[39;00m \u001b[38;5;28;01mas\u001b[39;00m \u001b[38;5;21;01msns\u001b[39;00m\n\u001b[1;32m----> 5\u001b[0m \u001b[38;5;28;01mfrom\u001b[39;00m \u001b[38;5;21;01msklearn\u001b[39;00m\u001b[38;5;21;01m.\u001b[39;00m\u001b[38;5;21;01mensemble\u001b[39;00m \u001b[38;5;28;01mimport\u001b[39;00m GradientBoostingClassifier\n\u001b[0;32m      6\u001b[0m \u001b[38;5;28;01mfrom\u001b[39;00m \u001b[38;5;21;01msklearn\u001b[39;00m\u001b[38;5;21;01m.\u001b[39;00m\u001b[38;5;21;01mmodel_selection\u001b[39;00m \u001b[38;5;28;01mimport\u001b[39;00m train_test_split\n\u001b[0;32m      7\u001b[0m \u001b[38;5;28;01mfrom\u001b[39;00m \u001b[38;5;21;01msklearn\u001b[39;00m\u001b[38;5;21;01m.\u001b[39;00m\u001b[38;5;21;01mmodel_selection\u001b[39;00m \u001b[38;5;28;01mimport\u001b[39;00m GridSearchCV\n",
      "\u001b[1;31mModuleNotFoundError\u001b[0m: No module named 'sklearn'"
     ]
    }
   ],
   "source": [
    "import pandas as pd\n",
    "import numpy as np\n",
    "import matplotlib.pyplot as plt\n",
    "import seaborn as sns\n",
    "from sklearn.ensemble import GradientBoostingClassifier\n",
    "from sklearn.model_selection import train_test_split\n",
    "from sklearn.model_selection import GridSearchCV\n",
    "from sklearn.linear_model import LinearRegression"
   ]
  },
  {
   "cell_type": "markdown",
   "metadata": {
    "id": "bemOO8zVANLn"
   },
   "source": [
    "# Loading dataset"
   ]
  },
  {
   "cell_type": "code",
   "execution_count": null,
   "metadata": {
    "colab": {
     "base_uri": "https://localhost:8080/",
     "height": 206
    },
    "id": "8PyddiU2DxHG",
    "outputId": "37cc50ca-4646-43b6-a98d-543f44b8a2e6"
   },
   "outputs": [],
   "source": [
    "df = pd.read_csv('/content/drive/MyDrive/mlb11.csv',index_col=0)\n",
    "df.head()"
   ]
  },
  {
   "cell_type": "code",
   "execution_count": null,
   "metadata": {
    "colab": {
     "base_uri": "https://localhost:8080/",
     "height": 300
    },
    "id": "0jeW7hpHLPqa",
    "outputId": "58010350-a9b9-45d3-8c90-e77fa337d362"
   },
   "outputs": [],
   "source": [
    "df.describe()"
   ]
  },
  {
   "cell_type": "markdown",
   "metadata": {
    "id": "aEcTODGFKT_i"
   },
   "source": [
    "# Correlation"
   ]
  },
  {
   "cell_type": "markdown",
   "metadata": {
    "id": "P03mjEaCOt7K"
   },
   "source": [
    "### Plot correlation matrix"
   ]
  },
  {
   "cell_type": "code",
   "execution_count": null,
   "metadata": {
    "colab": {
     "base_uri": "https://localhost:8080/",
     "height": 394
    },
    "id": "PRco5t4LEWIF",
    "outputId": "c280f96f-69f9-4226-c071-df8edb400979"
   },
   "outputs": [],
   "source": [
    "df.corr(method=\"pearson\").style.background_gradient()"
   ]
  },
  {
   "cell_type": "markdown",
   "metadata": {
    "id": "dNJxMXZPOqFF"
   },
   "source": [
    "### Drop variables with low correlation to *runs*"
   ]
  },
  {
   "cell_type": "code",
   "execution_count": null,
   "metadata": {
    "colab": {
     "base_uri": "https://localhost:8080/",
     "height": 206
    },
    "id": "VC1grgKCOfgh",
    "outputId": "8b03512a-376d-48d6-bfc7-7fe223d0deaf"
   },
   "outputs": [],
   "source": [
    "df = df.drop(['team','at_bats','strikeouts','stolen_bases','wins'],axis=1)\n",
    "df.head()"
   ]
  },
  {
   "cell_type": "markdown",
   "metadata": {
    "id": "tidrYY9ZKWLv"
   },
   "source": [
    "# EDA"
   ]
  },
  {
   "cell_type": "markdown",
   "metadata": {
    "id": "weFENinYAT1B"
   },
   "source": [
    "### Defining functions"
   ]
  },
  {
   "cell_type": "code",
   "execution_count": null,
   "metadata": {
    "id": "BtMdOoGFZ7qT"
   },
   "outputs": [],
   "source": [
    "def df_transform(data,transform=\"None\"):\n",
    "  for col in data.columns:\n",
    "    if transform == 'log':\n",
    "      data[col] = list(map(np.log,data[col]))\n",
    "    elif transform == 'square':\n",
    "      data[col] = list(map(np.square,data[col]))\n",
    "    elif transform == 'root':\n",
    "      data[col] = list(map(np.sqrt,data[col]))\n",
    "    else: \n",
    "      pass\n",
    "  \n",
    "  return data\n",
    "\n",
    "def plot_hist(data,transform=\"None\"):\n",
    "  data = df_transform(data,transform)\n",
    "\n",
    "  count = 1\n",
    "  plt.figure(figsize=(16,8))\n",
    "  for col in data.columns:\n",
    "    if col == 'runs':\n",
    "      pass\n",
    "    else: \n",
    "      plt.subplot(2,3,count)\n",
    "      plt.hist(data[col])\n",
    "      plt.title(col)\n",
    "      count = count + 1\n",
    "\n",
    "  plt.figure()\n",
    "  plt.hist(data['runs'])\n",
    "  plt.title('runs')\n",
    "\n",
    "def plot_scatter(data,transform=\"None\"):\n",
    "  \n",
    "  data = df_transform(data,transform)\n",
    "  print (data.corr(method=\"pearson\").style.background_gradient())\n",
    "\n",
    "  count = 1\n",
    "  plt.figure(figsize=(16,8))\n",
    "  for col in data.columns:\n",
    "    if col == \"runs\":\n",
    "      pass\n",
    "    else:\n",
    "      a, b = np.polyfit(data[\"runs\"], data[col], 1)\n",
    "      plt.subplot(2,3,count)\n",
    "      plt.scatter(data[\"runs\"],data[col])\n",
    "      plt.plot(np.array(data['runs']),a*np.array(data['runs'])+b,alpha=0.3,color='red')\n",
    "      plt.xlabel(\"runs\")\n",
    "      plt.ylabel(col)\n",
    "      count = count + 1\n",
    "  plt.show()"
   ]
  },
  {
   "cell_type": "markdown",
   "metadata": {
    "id": "YNoKmoMGAZLs"
   },
   "source": [
    "### Plot histograms - *default* data"
   ]
  },
  {
   "cell_type": "code",
   "execution_count": null,
   "metadata": {
    "colab": {
     "base_uri": "https://localhost:8080/",
     "height": 763
    },
    "id": "xNFNFgXrFsJi",
    "outputId": "0368a03c-a722-4a26-a2db-434a598574a9"
   },
   "outputs": [],
   "source": [
    "plot_hist(df)"
   ]
  },
  {
   "cell_type": "markdown",
   "metadata": {
    "id": "JVuT3s5MAhkB"
   },
   "source": [
    "### Plot histogram - *log* data"
   ]
  },
  {
   "cell_type": "code",
   "execution_count": null,
   "metadata": {
    "colab": {
     "base_uri": "https://localhost:8080/",
     "height": 763
    },
    "id": "kw03FE1_Wr5E",
    "outputId": "42c76f8f-dc3d-477a-84f4-a8204225849e"
   },
   "outputs": [],
   "source": [
    "plot_hist(df.copy(),'log')"
   ]
  },
  {
   "cell_type": "markdown",
   "metadata": {
    "id": "0wJfiZxBArHI"
   },
   "source": [
    "### Plot histogram - *square root* data"
   ]
  },
  {
   "cell_type": "code",
   "execution_count": null,
   "metadata": {
    "colab": {
     "base_uri": "https://localhost:8080/",
     "height": 763
    },
    "id": "laDMLFw0blrR",
    "outputId": "b75b8638-97a0-4295-8709-ac00bb36952c"
   },
   "outputs": [],
   "source": [
    "plot_hist(df.copy(),\"root\")"
   ]
  },
  {
   "cell_type": "markdown",
   "metadata": {
    "id": "6FcpCUaTAyAU"
   },
   "source": [
    "Plot histogram - *square* data"
   ]
  },
  {
   "cell_type": "code",
   "execution_count": null,
   "metadata": {
    "colab": {
     "base_uri": "https://localhost:8080/",
     "height": 763
    },
    "id": "FieJxiGQbikC",
    "outputId": "79ba4bfa-e298-468b-c9f2-22a8a6a9c4b7"
   },
   "outputs": [],
   "source": [
    "plot_hist(df.copy(),\"square\")"
   ]
  },
  {
   "cell_type": "markdown",
   "metadata": {
    "id": "p35dUGsLA4-1"
   },
   "source": [
    "### Plot scatter - *default* data"
   ]
  },
  {
   "cell_type": "code",
   "execution_count": null,
   "metadata": {
    "colab": {
     "base_uri": "https://localhost:8080/",
     "height": 767
    },
    "id": "0ReFsjLndazn",
    "outputId": "e5826192-ea17-4950-fb18-87616fb79ca7"
   },
   "outputs": [],
   "source": [
    "plot_scatter(df.copy())\n",
    "df.corr(method=\"pearson\").style.background_gradient()"
   ]
  },
  {
   "cell_type": "markdown",
   "metadata": {
    "id": "QKQsyKPxBBLt"
   },
   "source": [
    "### Plot scatter - *log* data"
   ]
  },
  {
   "cell_type": "code",
   "execution_count": null,
   "metadata": {
    "colab": {
     "base_uri": "https://localhost:8080/",
     "height": 767
    },
    "id": "iAgLhqXLrJiU",
    "outputId": "34923d44-3739-4abc-8b97-8a9e9daedc26"
   },
   "outputs": [],
   "source": [
    "plot_scatter(df.copy(),\"log\")\n",
    "df_log = df_transform(df.copy(),\"log\")\n",
    "df_log.corr(method=\"pearson\").style.background_gradient()"
   ]
  },
  {
   "cell_type": "markdown",
   "metadata": {
    "id": "QnoDCjZiBC0y"
   },
   "source": [
    "### Plot scatter - *square root* data"
   ]
  },
  {
   "cell_type": "code",
   "execution_count": null,
   "metadata": {
    "colab": {
     "base_uri": "https://localhost:8080/",
     "height": 767
    },
    "id": "vzQC2V8Hwo5z",
    "outputId": "7c833f9b-c90f-4b6a-a39a-219c9b006518"
   },
   "outputs": [],
   "source": [
    "plot_scatter(df.copy(),\"root\")\n",
    "df_root = df_transform(df.copy(),\"root\")\n",
    "df_root.corr(method=\"pearson\").style.background_gradient()"
   ]
  },
  {
   "cell_type": "markdown",
   "metadata": {
    "id": "o-KFw8ZkBFG7"
   },
   "source": [
    "### Plot scatter - *square* data"
   ]
  },
  {
   "cell_type": "code",
   "execution_count": null,
   "metadata": {
    "colab": {
     "base_uri": "https://localhost:8080/",
     "height": 778
    },
    "id": "LN19OxROwsY9",
    "outputId": "8eaf5f2d-79b1-4e1e-a996-a5f49989188b"
   },
   "outputs": [],
   "source": [
    "plot_scatter(df.copy(),\"square\")\n",
    "df_square = df_transform(df.copy(),\"square\")\n",
    "df_square.corr(method=\"pearson\").style.background_gradient()"
   ]
  },
  {
   "cell_type": "code",
   "execution_count": null,
   "metadata": {
    "id": "7idr8-fqw4iP"
   },
   "outputs": [],
   "source": []
  }
 ],
 "metadata": {
  "colab": {
   "collapsed_sections": [],
   "provenance": []
  },
  "kernelspec": {
   "display_name": "Python 3 (ipykernel)",
   "language": "python",
   "name": "python3"
  },
  "language_info": {
   "codemirror_mode": {
    "name": "ipython",
    "version": 3
   },
   "file_extension": ".py",
   "mimetype": "text/x-python",
   "name": "python",
   "nbconvert_exporter": "python",
   "pygments_lexer": "ipython3",
   "version": "3.8.5"
  }
 },
 "nbformat": 4,
 "nbformat_minor": 1
}
